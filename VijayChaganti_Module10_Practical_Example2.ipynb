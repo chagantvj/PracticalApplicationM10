{
 "cells": [
  {
   "cell_type": "markdown",
   "metadata": {},
   "source": [
    "# What drives the price of a car?\n",
    "\n",
    "![](images/kurt.jpeg)"
   ]
  },
  {
   "cell_type": "markdown",
   "metadata": {},
   "source": [
    "**OVERVIEW**\n",
    "\n",
    "In this application, you will explore a dataset from Kaggle. The original dataset contained information on 3 million used cars. The provided dataset contains information on 426K cars to ensure speed of processing.  Your goal is to understand what factors make a car more or less expensive.  As a result of your analysis, you should provide clear recommendations to your client -- a used car dealership -- as to what consumers value in a used car."
   ]
  },
  {
   "cell_type": "markdown",
   "metadata": {},
   "source": [
    "### CRISP-DM Framework\n",
    "\n",
    "<center>\n",
    "    <img src = images/crisp.png width = 50%/>\n",
    "</center>\n",
    "\n",
    "\n",
    "To frame the task, throughout our practical applications, we will refer back to a standard process in industry for data projects called CRISP-DM.  This process provides a framework for working through a data problem.  Your first step in this application will be to read through a brief overview of CRISP-DM [here](https://mo-pcco.s3.us-east-1.amazonaws.com/BH-PCMLAI/module_11/readings_starter.zip).  After reading the overview, answer the questions below."
   ]
  },
  {
   "cell_type": "markdown",
   "metadata": {},
   "source": [
    "### Business Understanding\n",
    "\n",
    "From a business perspective, we are tasked with identifying key drivers for used car prices.  In the CRISP-DM overview, we are asked to convert this business framing to a data problem definition.  Using a few sentences, reframe the task as a data task with the appropriate technical vocabulary. "
   ]
  },
  {
   "cell_type": "code",
   "execution_count": 1,
   "metadata": {},
   "outputs": [
    {
     "name": "stdout",
     "output_type": "stream",
     "text": [
      "All files loaded\n"
     ]
    }
   ],
   "source": [
    "import pandas as pd\n",
    "import numpy as np\n",
    "from scipy import stats\n",
    "\n",
    "from sklearn.linear_model import Lasso, Ridge, LinearRegression\n",
    "from sklearn.metrics import mean_squared_error, mean_absolute_error, r2_score\n",
    "from sklearn.metrics import root_mean_squared_error\n",
    "from sklearn.model_selection import train_test_split, GridSearchCV\n",
    "from sklearn.preprocessing import LabelEncoder, StandardScaler, PolynomialFeatures, MinMaxScaler\n",
    "from sklearn.pipeline import Pipeline\n",
    "\n",
    "import matplotlib.pyplot as plt\n",
    "import seaborn as sns\n",
    "plt.style.use('ggplot')\n",
    "\n",
    "import warnings\n",
    "warnings.filterwarnings(\"ignore\")\n",
    "print(\"All files loaded\")"
   ]
  },
  {
   "cell_type": "code",
   "execution_count": 3,
   "metadata": {},
   "outputs": [],
   "source": [
    "df = pd.read_csv(\"/Users/vijayc/Downloads/practical_application_II_starter/data/vehicles.csv\")\n",
    "dfOrig = pd.read_csv(\"/Users/vijayc/Downloads/practical_application_II_starter/data/vehicles.csv\")\n"
   ]
  },
  {
   "cell_type": "code",
   "execution_count": 5,
   "metadata": {},
   "outputs": [
    {
     "name": "stdout",
     "output_type": "stream",
     "text": [
      "<class 'pandas.core.frame.DataFrame'>\n",
      "RangeIndex: 426880 entries, 0 to 426879\n",
      "Data columns (total 18 columns):\n",
      " #   Column        Non-Null Count   Dtype  \n",
      "---  ------        --------------   -----  \n",
      " 0   id            426880 non-null  int64  \n",
      " 1   region        426880 non-null  object \n",
      " 2   price         426880 non-null  int64  \n",
      " 3   year          425675 non-null  float64\n",
      " 4   manufacturer  409234 non-null  object \n",
      " 5   model         421603 non-null  object \n",
      " 6   condition     252776 non-null  object \n",
      " 7   cylinders     249202 non-null  object \n",
      " 8   fuel          423867 non-null  object \n",
      " 9   odometer      422480 non-null  float64\n",
      " 10  title_status  418638 non-null  object \n",
      " 11  transmission  424324 non-null  object \n",
      " 12  VIN           265838 non-null  object \n",
      " 13  drive         296313 non-null  object \n",
      " 14  size          120519 non-null  object \n",
      " 15  type          334022 non-null  object \n",
      " 16  paint_color   296677 non-null  object \n",
      " 17  state         426880 non-null  object \n",
      "dtypes: float64(2), int64(2), object(14)\n",
      "memory usage: 58.6+ MB\n"
     ]
    }
   ],
   "source": [
    "dfOrig.info()"
   ]
  },
  {
   "cell_type": "code",
   "execution_count": 7,
   "metadata": {},
   "outputs": [
    {
     "data": {
      "text/html": [
       "<div>\n",
       "<style scoped>\n",
       "    .dataframe tbody tr th:only-of-type {\n",
       "        vertical-align: middle;\n",
       "    }\n",
       "\n",
       "    .dataframe tbody tr th {\n",
       "        vertical-align: top;\n",
       "    }\n",
       "\n",
       "    .dataframe thead th {\n",
       "        text-align: right;\n",
       "    }\n",
       "</style>\n",
       "<table border=\"1\" class=\"dataframe\">\n",
       "  <thead>\n",
       "    <tr style=\"text-align: right;\">\n",
       "      <th></th>\n",
       "      <th>id</th>\n",
       "      <th>region</th>\n",
       "      <th>price</th>\n",
       "      <th>year</th>\n",
       "      <th>manufacturer</th>\n",
       "      <th>model</th>\n",
       "      <th>condition</th>\n",
       "      <th>cylinders</th>\n",
       "      <th>fuel</th>\n",
       "      <th>odometer</th>\n",
       "      <th>title_status</th>\n",
       "      <th>transmission</th>\n",
       "      <th>VIN</th>\n",
       "      <th>drive</th>\n",
       "      <th>size</th>\n",
       "      <th>type</th>\n",
       "      <th>paint_color</th>\n",
       "      <th>state</th>\n",
       "    </tr>\n",
       "  </thead>\n",
       "  <tbody>\n",
       "    <tr>\n",
       "      <th>168686</th>\n",
       "      <td>7316378552</td>\n",
       "      <td>wichita</td>\n",
       "      <td>3500</td>\n",
       "      <td>1971.0</td>\n",
       "      <td>gmc</td>\n",
       "      <td>NaN</td>\n",
       "      <td>NaN</td>\n",
       "      <td>8 cylinders</td>\n",
       "      <td>gas</td>\n",
       "      <td>45160.0</td>\n",
       "      <td>clean</td>\n",
       "      <td>automatic</td>\n",
       "      <td>NaN</td>\n",
       "      <td>rwd</td>\n",
       "      <td>full-size</td>\n",
       "      <td>truck</td>\n",
       "      <td>white</td>\n",
       "      <td>ks</td>\n",
       "    </tr>\n",
       "    <tr>\n",
       "      <th>66178</th>\n",
       "      <td>7306246236</td>\n",
       "      <td>stockton</td>\n",
       "      <td>14777</td>\n",
       "      <td>2016.0</td>\n",
       "      <td>chevrolet</td>\n",
       "      <td>malibu limited</td>\n",
       "      <td>NaN</td>\n",
       "      <td>4 cylinders</td>\n",
       "      <td>gas</td>\n",
       "      <td>74556.0</td>\n",
       "      <td>clean</td>\n",
       "      <td>automatic</td>\n",
       "      <td>1G11C5SA7GU162654</td>\n",
       "      <td>fwd</td>\n",
       "      <td>NaN</td>\n",
       "      <td>sedan</td>\n",
       "      <td>NaN</td>\n",
       "      <td>ca</td>\n",
       "    </tr>\n",
       "    <tr>\n",
       "      <th>90163</th>\n",
       "      <td>7314301675</td>\n",
       "      <td>washington, DC</td>\n",
       "      <td>0</td>\n",
       "      <td>2016.0</td>\n",
       "      <td>ford</td>\n",
       "      <td>f-150 xlt supercrew 6.5-ft</td>\n",
       "      <td>excellent</td>\n",
       "      <td>NaN</td>\n",
       "      <td>gas</td>\n",
       "      <td>92515.0</td>\n",
       "      <td>clean</td>\n",
       "      <td>automatic</td>\n",
       "      <td>1FTEW1EP5GFC26249</td>\n",
       "      <td>4wd</td>\n",
       "      <td>NaN</td>\n",
       "      <td>truck</td>\n",
       "      <td>red</td>\n",
       "      <td>dc</td>\n",
       "    </tr>\n",
       "    <tr>\n",
       "      <th>292280</th>\n",
       "      <td>7316296616</td>\n",
       "      <td>cleveland</td>\n",
       "      <td>9988</td>\n",
       "      <td>2012.0</td>\n",
       "      <td>gmc</td>\n",
       "      <td>terrain</td>\n",
       "      <td>excellent</td>\n",
       "      <td>4 cylinders</td>\n",
       "      <td>gas</td>\n",
       "      <td>77262.0</td>\n",
       "      <td>clean</td>\n",
       "      <td>automatic</td>\n",
       "      <td>2GKALSEK6C6186063</td>\n",
       "      <td>fwd</td>\n",
       "      <td>mid-size</td>\n",
       "      <td>SUV</td>\n",
       "      <td>silver</td>\n",
       "      <td>oh</td>\n",
       "    </tr>\n",
       "    <tr>\n",
       "      <th>104671</th>\n",
       "      <td>7315914199</td>\n",
       "      <td>orlando</td>\n",
       "      <td>28990</td>\n",
       "      <td>2018.0</td>\n",
       "      <td>bmw</td>\n",
       "      <td>i3 s w/range extender</td>\n",
       "      <td>good</td>\n",
       "      <td>NaN</td>\n",
       "      <td>electric</td>\n",
       "      <td>12514.0</td>\n",
       "      <td>clean</td>\n",
       "      <td>other</td>\n",
       "      <td>WBY7Z8C54JVB87145</td>\n",
       "      <td>rwd</td>\n",
       "      <td>NaN</td>\n",
       "      <td>hatchback</td>\n",
       "      <td>blue</td>\n",
       "      <td>fl</td>\n",
       "    </tr>\n",
       "  </tbody>\n",
       "</table>\n",
       "</div>"
      ],
      "text/plain": [
       "                id          region  price    year manufacturer  \\\n",
       "168686  7316378552         wichita   3500  1971.0          gmc   \n",
       "66178   7306246236        stockton  14777  2016.0    chevrolet   \n",
       "90163   7314301675  washington, DC      0  2016.0         ford   \n",
       "292280  7316296616       cleveland   9988  2012.0          gmc   \n",
       "104671  7315914199         orlando  28990  2018.0          bmw   \n",
       "\n",
       "                             model  condition    cylinders      fuel  \\\n",
       "168686                         NaN        NaN  8 cylinders       gas   \n",
       "66178               malibu limited        NaN  4 cylinders       gas   \n",
       "90163   f-150 xlt supercrew 6.5-ft  excellent          NaN       gas   \n",
       "292280                     terrain  excellent  4 cylinders       gas   \n",
       "104671       i3 s w/range extender       good          NaN  electric   \n",
       "\n",
       "        odometer title_status transmission                VIN drive  \\\n",
       "168686   45160.0        clean    automatic                NaN   rwd   \n",
       "66178    74556.0        clean    automatic  1G11C5SA7GU162654   fwd   \n",
       "90163    92515.0        clean    automatic  1FTEW1EP5GFC26249   4wd   \n",
       "292280   77262.0        clean    automatic  2GKALSEK6C6186063   fwd   \n",
       "104671   12514.0        clean        other  WBY7Z8C54JVB87145   rwd   \n",
       "\n",
       "             size       type paint_color state  \n",
       "168686  full-size      truck       white    ks  \n",
       "66178         NaN      sedan         NaN    ca  \n",
       "90163         NaN      truck         red    dc  \n",
       "292280   mid-size        SUV      silver    oh  \n",
       "104671        NaN  hatchback        blue    fl  "
      ]
     },
     "metadata": {},
     "output_type": "display_data"
    }
   ],
   "source": [
    "display(df.sample(5))"
   ]
  },
  {
   "cell_type": "code",
   "execution_count": 9,
   "metadata": {},
   "outputs": [
    {
     "name": "stdout",
     "output_type": "stream",
     "text": [
      "                id                  region  price    year manufacturer  \\\n",
      "0       7222695916                prescott   6000     NaN          NaN   \n",
      "1       7218891961            fayetteville  11900     NaN          NaN   \n",
      "2       7221797935            florida keys  21000     NaN          NaN   \n",
      "3       7222270760  worcester / central MA   1500     NaN          NaN   \n",
      "4       7210384030              greensboro   4900     NaN          NaN   \n",
      "...            ...                     ...    ...     ...          ...   \n",
      "426875  7301591192                 wyoming  23590  2019.0       nissan   \n",
      "426876  7301591187                 wyoming  30590  2020.0        volvo   \n",
      "426877  7301591147                 wyoming  34990  2020.0     cadillac   \n",
      "426878  7301591140                 wyoming  28990  2018.0        lexus   \n",
      "426879  7301591129                 wyoming  30590  2019.0          bmw   \n",
      "\n",
      "                           model condition    cylinders    fuel  odometer  \\\n",
      "0                            NaN       NaN          NaN     NaN       NaN   \n",
      "1                            NaN       NaN          NaN     NaN       NaN   \n",
      "2                            NaN       NaN          NaN     NaN       NaN   \n",
      "3                            NaN       NaN          NaN     NaN       NaN   \n",
      "4                            NaN       NaN          NaN     NaN       NaN   \n",
      "...                          ...       ...          ...     ...       ...   \n",
      "426875         maxima s sedan 4d      good  6 cylinders     gas   32226.0   \n",
      "426876  s60 t5 momentum sedan 4d      good          NaN     gas   12029.0   \n",
      "426877          xt4 sport suv 4d      good          NaN  diesel    4174.0   \n",
      "426878           es 350 sedan 4d      good  6 cylinders     gas   30112.0   \n",
      "426879  4 series 430i gran coupe      good          NaN     gas   22716.0   \n",
      "\n",
      "       title_status transmission                VIN drive size       type  \\\n",
      "0               NaN          NaN                NaN   NaN  NaN        NaN   \n",
      "1               NaN          NaN                NaN   NaN  NaN        NaN   \n",
      "2               NaN          NaN                NaN   NaN  NaN        NaN   \n",
      "3               NaN          NaN                NaN   NaN  NaN        NaN   \n",
      "4               NaN          NaN                NaN   NaN  NaN        NaN   \n",
      "...             ...          ...                ...   ...  ...        ...   \n",
      "426875        clean        other  1N4AA6AV6KC367801   fwd  NaN      sedan   \n",
      "426876        clean        other  7JR102FKXLG042696   fwd  NaN      sedan   \n",
      "426877        clean        other  1GYFZFR46LF088296   NaN  NaN  hatchback   \n",
      "426878        clean        other  58ABK1GG4JU103853   fwd  NaN      sedan   \n",
      "426879        clean        other  WBA4J1C58KBM14708   rwd  NaN      coupe   \n",
      "\n",
      "       paint_color state  \n",
      "0              NaN    az  \n",
      "1              NaN    ar  \n",
      "2              NaN    fl  \n",
      "3              NaN    ma  \n",
      "4              NaN    nc  \n",
      "...            ...   ...  \n",
      "426875         NaN    wy  \n",
      "426876         red    wy  \n",
      "426877       white    wy  \n",
      "426878      silver    wy  \n",
      "426879         NaN    wy  \n",
      "\n",
      "[426880 rows x 18 columns]\n"
     ]
    }
   ],
   "source": [
    "df['price'] = df['price'].fillna(df['price'].mean())\n",
    "df = df[~np.isinf(df['price'])]\n",
    "print(df)"
   ]
  },
  {
   "cell_type": "code",
   "execution_count": 11,
   "metadata": {},
   "outputs": [
    {
     "name": "stdout",
     "output_type": "stream",
     "text": [
      "<class 'pandas.core.frame.DataFrame'>\n",
      "RangeIndex: 426880 entries, 0 to 426879\n",
      "Data columns (total 18 columns):\n",
      " #   Column        Non-Null Count   Dtype  \n",
      "---  ------        --------------   -----  \n",
      " 0   id            426880 non-null  int64  \n",
      " 1   region        426880 non-null  object \n",
      " 2   price         426880 non-null  int64  \n",
      " 3   year          425675 non-null  float64\n",
      " 4   manufacturer  409234 non-null  object \n",
      " 5   model         421603 non-null  object \n",
      " 6   condition     252776 non-null  object \n",
      " 7   cylinders     249202 non-null  object \n",
      " 8   fuel          423867 non-null  object \n",
      " 9   odometer      422480 non-null  float64\n",
      " 10  title_status  418638 non-null  object \n",
      " 11  transmission  424324 non-null  object \n",
      " 12  VIN           265838 non-null  object \n",
      " 13  drive         296313 non-null  object \n",
      " 14  size          120519 non-null  object \n",
      " 15  type          334022 non-null  object \n",
      " 16  paint_color   296677 non-null  object \n",
      " 17  state         426880 non-null  object \n",
      "dtypes: float64(2), int64(2), object(14)\n",
      "memory usage: 58.6+ MB\n"
     ]
    }
   ],
   "source": [
    "df.info()"
   ]
  },
  {
   "cell_type": "code",
   "execution_count": 13,
   "metadata": {},
   "outputs": [
    {
     "name": "stdout",
     "output_type": "stream",
     "text": [
      "0\n",
      "0\n"
     ]
    }
   ],
   "source": [
    "has_nan = df['price'].isna().any().sum() \n",
    "has_inf = np.isinf(df['price']).any().sum()\n",
    "df_cleaned = df[~np.isinf(df['price'])]\n",
    "has_inf = np.isinf(df_cleaned['price']).any().sum()\n",
    "print(has_nan)\n",
    "print(has_inf)"
   ]
  },
  {
   "cell_type": "code",
   "execution_count": 15,
   "metadata": {},
   "outputs": [
    {
     "data": {
      "text/plain": [
       "id                   0\n",
       "region               0\n",
       "price                0\n",
       "year              1205\n",
       "manufacturer     17646\n",
       "model             5277\n",
       "condition       174104\n",
       "cylinders       177678\n",
       "fuel              3013\n",
       "odometer          4400\n",
       "title_status      8242\n",
       "transmission      2556\n",
       "VIN             161042\n",
       "drive           130567\n",
       "size            306361\n",
       "type             92858\n",
       "paint_color     130203\n",
       "state                0\n",
       "dtype: int64"
      ]
     },
     "execution_count": 15,
     "metadata": {},
     "output_type": "execute_result"
    }
   ],
   "source": [
    "df.isna().sum() ## There are lot of missing values "
   ]
  },
  {
   "cell_type": "code",
   "execution_count": 17,
   "metadata": {},
   "outputs": [
    {
     "data": {
      "text/plain": [
       "id               0.00\n",
       "region           0.00\n",
       "price            0.00\n",
       "year             0.28\n",
       "manufacturer     4.13\n",
       "model            1.24\n",
       "condition       40.79\n",
       "cylinders       41.62\n",
       "fuel             0.71\n",
       "odometer         1.03\n",
       "title_status     1.93\n",
       "transmission     0.60\n",
       "VIN             37.73\n",
       "drive           30.59\n",
       "size            71.77\n",
       "type            21.75\n",
       "paint_color     30.50\n",
       "state            0.00\n",
       "dtype: float64"
      ]
     },
     "execution_count": 17,
     "metadata": {},
     "output_type": "execute_result"
    }
   ],
   "source": [
    "df.isna().mean().round(4)*100"
   ]
  },
  {
   "cell_type": "code",
   "execution_count": 19,
   "metadata": {},
   "outputs": [
    {
     "data": {
      "text/plain": [
       "0"
      ]
     },
     "execution_count": 19,
     "metadata": {},
     "output_type": "execute_result"
    }
   ],
   "source": [
    "sum(df.duplicated()) ## O duplicates found"
   ]
  },
  {
   "cell_type": "code",
   "execution_count": 21,
   "metadata": {},
   "outputs": [
    {
     "data": {
      "text/plain": [
       "426880"
      ]
     },
     "execution_count": 21,
     "metadata": {},
     "output_type": "execute_result"
    }
   ],
   "source": [
    "df.shape[0]"
   ]
  },
  {
   "cell_type": "markdown",
   "metadata": {},
   "source": [
    "### Data Understanding\n",
    "\n",
    "After considering the business understanding, we want to get familiar with our data.  Write down some steps that you would take to get to know the dataset and identify any quality issues within.  Take time to get to know the dataset and explore what information it contains and how this could be used to inform your business understanding."
   ]
  },
  {
   "cell_type": "code",
   "execution_count": 24,
   "metadata": {},
   "outputs": [
    {
     "data": {
      "text/html": [
       "<div>\n",
       "<style scoped>\n",
       "    .dataframe tbody tr th:only-of-type {\n",
       "        vertical-align: middle;\n",
       "    }\n",
       "\n",
       "    .dataframe tbody tr th {\n",
       "        vertical-align: top;\n",
       "    }\n",
       "\n",
       "    .dataframe thead th {\n",
       "        text-align: right;\n",
       "    }\n",
       "</style>\n",
       "<table border=\"1\" class=\"dataframe\">\n",
       "  <thead>\n",
       "    <tr style=\"text-align: right;\">\n",
       "      <th></th>\n",
       "      <th>price</th>\n",
       "    </tr>\n",
       "  </thead>\n",
       "  <tbody>\n",
       "    <tr>\n",
       "      <th>count</th>\n",
       "      <td>426880.00</td>\n",
       "    </tr>\n",
       "    <tr>\n",
       "      <th>mean</th>\n",
       "      <td>75199.03</td>\n",
       "    </tr>\n",
       "    <tr>\n",
       "      <th>std</th>\n",
       "      <td>12182282.17</td>\n",
       "    </tr>\n",
       "    <tr>\n",
       "      <th>min</th>\n",
       "      <td>0.00</td>\n",
       "    </tr>\n",
       "    <tr>\n",
       "      <th>25%</th>\n",
       "      <td>5900.00</td>\n",
       "    </tr>\n",
       "    <tr>\n",
       "      <th>50%</th>\n",
       "      <td>13950.00</td>\n",
       "    </tr>\n",
       "    <tr>\n",
       "      <th>75%</th>\n",
       "      <td>26485.75</td>\n",
       "    </tr>\n",
       "    <tr>\n",
       "      <th>max</th>\n",
       "      <td>3736928711.00</td>\n",
       "    </tr>\n",
       "  </tbody>\n",
       "</table>\n",
       "</div>"
      ],
      "text/plain": [
       "              price\n",
       "count     426880.00\n",
       "mean       75199.03\n",
       "std     12182282.17\n",
       "min            0.00\n",
       "25%         5900.00\n",
       "50%        13950.00\n",
       "75%        26485.75\n",
       "max   3736928711.00"
      ]
     },
     "execution_count": 24,
     "metadata": {},
     "output_type": "execute_result"
    }
   ],
   "source": [
    "pd.set_option('display.float_format', '{:.2f}'.format)\n",
    "df[['price']].describe()"
   ]
  },
  {
   "cell_type": "code",
   "execution_count": 26,
   "metadata": {},
   "outputs": [
    {
     "data": {
      "text/html": [
       "<div>\n",
       "<style scoped>\n",
       "    .dataframe tbody tr th:only-of-type {\n",
       "        vertical-align: middle;\n",
       "    }\n",
       "\n",
       "    .dataframe tbody tr th {\n",
       "        vertical-align: top;\n",
       "    }\n",
       "\n",
       "    .dataframe thead th {\n",
       "        text-align: right;\n",
       "    }\n",
       "</style>\n",
       "<table border=\"1\" class=\"dataframe\">\n",
       "  <thead>\n",
       "    <tr style=\"text-align: right;\">\n",
       "      <th></th>\n",
       "      <th>price</th>\n",
       "    </tr>\n",
       "  </thead>\n",
       "  <tbody>\n",
       "    <tr>\n",
       "      <th>count</th>\n",
       "      <td>426880.00</td>\n",
       "    </tr>\n",
       "    <tr>\n",
       "      <th>mean</th>\n",
       "      <td>75199.03</td>\n",
       "    </tr>\n",
       "    <tr>\n",
       "      <th>std</th>\n",
       "      <td>12182282.17</td>\n",
       "    </tr>\n",
       "    <tr>\n",
       "      <th>min</th>\n",
       "      <td>0.00</td>\n",
       "    </tr>\n",
       "    <tr>\n",
       "      <th>5%</th>\n",
       "      <td>0.00</td>\n",
       "    </tr>\n",
       "    <tr>\n",
       "      <th>50%</th>\n",
       "      <td>13950.00</td>\n",
       "    </tr>\n",
       "    <tr>\n",
       "      <th>85%</th>\n",
       "      <td>32995.00</td>\n",
       "    </tr>\n",
       "    <tr>\n",
       "      <th>95%</th>\n",
       "      <td>44500.00</td>\n",
       "    </tr>\n",
       "    <tr>\n",
       "      <th>99%</th>\n",
       "      <td>66995.00</td>\n",
       "    </tr>\n",
       "    <tr>\n",
       "      <th>max</th>\n",
       "      <td>3736928711.00</td>\n",
       "    </tr>\n",
       "  </tbody>\n",
       "</table>\n",
       "</div>"
      ],
      "text/plain": [
       "              price\n",
       "count     426880.00\n",
       "mean       75199.03\n",
       "std     12182282.17\n",
       "min            0.00\n",
       "5%             0.00\n",
       "50%        13950.00\n",
       "85%        32995.00\n",
       "95%        44500.00\n",
       "99%        66995.00\n",
       "max   3736928711.00"
      ]
     },
     "execution_count": 26,
     "metadata": {},
     "output_type": "execute_result"
    }
   ],
   "source": [
    "p = [0.05, 0.85, 0.95, 0.99]\n",
    "df[['price']].describe(p)"
   ]
  },
  {
   "cell_type": "code",
   "execution_count": 28,
   "metadata": {},
   "outputs": [
    {
     "data": {
      "image/png": "[encoded data removed]",
      "text/plain": [
       "<Figure size 640x480 with 1 Axes>"
      ]
     },
     "metadata": {},
     "output_type": "display_data"
    }
   ],
   "source": [
    "df['price'].plot(kind = 'box', vert = False, title = 'Boxplot of Price');"
   ]
  },
  {
   "cell_type": "code",
   "execution_count": 30,
   "metadata": {},
   "outputs": [
    {
     "data": {
      "image/png": "[encoded data removed]",
      "text/plain": [
       "<Figure size 640x480 with 1 Axes>"
      ]
     },
     "metadata": {},
     "output_type": "display_data"
    }
   ],
   "source": [
    "df['price'].plot(kind = 'density', title = 'Density of Price');"
   ]
  },
  {
   "cell_type": "code",
   "execution_count": 32,
   "metadata": {},
   "outputs": [
    {
     "data": {
      "image/png": "[encoded data removed]",
      "text/plain": [
       "<Figure size 640x480 with 1 Axes>"
      ]
     },
     "metadata": {},
     "output_type": "display_data"
    }
   ],
   "source": [
    "df['price'].plot(kind = 'hist', bins = 40, title = 'Histogram plot of Price');"
   ]
  },
  {
   "cell_type": "code",
   "execution_count": 34,
   "metadata": {},
   "outputs": [
    {
     "data": {
      "text/html": [
       "<div>\n",
       "<style scoped>\n",
       "    .dataframe tbody tr th:only-of-type {\n",
       "        vertical-align: middle;\n",
       "    }\n",
       "\n",
       "    .dataframe tbody tr th {\n",
       "        vertical-align: top;\n",
       "    }\n",
       "\n",
       "    .dataframe thead th {\n",
       "        text-align: right;\n",
       "    }\n",
       "</style>\n",
       "<table border=\"1\" class=\"dataframe\">\n",
       "  <thead>\n",
       "    <tr style=\"text-align: right;\">\n",
       "      <th></th>\n",
       "      <th>id</th>\n",
       "      <th>region</th>\n",
       "      <th>price</th>\n",
       "      <th>year</th>\n",
       "      <th>manufacturer</th>\n",
       "      <th>model</th>\n",
       "      <th>condition</th>\n",
       "      <th>cylinders</th>\n",
       "      <th>fuel</th>\n",
       "      <th>odometer</th>\n",
       "      <th>title_status</th>\n",
       "      <th>transmission</th>\n",
       "      <th>VIN</th>\n",
       "      <th>drive</th>\n",
       "      <th>size</th>\n",
       "      <th>type</th>\n",
       "      <th>paint_color</th>\n",
       "      <th>state</th>\n",
       "      <th>priceLog</th>\n",
       "    </tr>\n",
       "  </thead>\n",
       "  <tbody>\n",
       "    <tr>\n",
       "      <th>0</th>\n",
       "      <td>7222695916</td>\n",
       "      <td>prescott</td>\n",
       "      <td>6000</td>\n",
       "      <td>NaN</td>\n",
       "      <td>NaN</td>\n",
       "      <td>NaN</td>\n",
       "      <td>NaN</td>\n",
       "      <td>NaN</td>\n",
       "      <td>NaN</td>\n",
       "      <td>NaN</td>\n",
       "      <td>NaN</td>\n",
       "      <td>NaN</td>\n",
       "      <td>NaN</td>\n",
       "      <td>NaN</td>\n",
       "      <td>NaN</td>\n",
       "      <td>NaN</td>\n",
       "      <td>NaN</td>\n",
       "      <td>az</td>\n",
       "      <td>8.70</td>\n",
       "    </tr>\n",
       "    <tr>\n",
       "      <th>1</th>\n",
       "      <td>7218891961</td>\n",
       "      <td>fayetteville</td>\n",
       "      <td>11900</td>\n",
       "      <td>NaN</td>\n",
       "      <td>NaN</td>\n",
       "      <td>NaN</td>\n",
       "      <td>NaN</td>\n",
       "      <td>NaN</td>\n",
       "      <td>NaN</td>\n",
       "      <td>NaN</td>\n",
       "      <td>NaN</td>\n",
       "      <td>NaN</td>\n",
       "      <td>NaN</td>\n",
       "      <td>NaN</td>\n",
       "      <td>NaN</td>\n",
       "      <td>NaN</td>\n",
       "      <td>NaN</td>\n",
       "      <td>ar</td>\n",
       "      <td>9.38</td>\n",
       "    </tr>\n",
       "    <tr>\n",
       "      <th>2</th>\n",
       "      <td>7221797935</td>\n",
       "      <td>florida keys</td>\n",
       "      <td>21000</td>\n",
       "      <td>NaN</td>\n",
       "      <td>NaN</td>\n",
       "      <td>NaN</td>\n",
       "      <td>NaN</td>\n",
       "      <td>NaN</td>\n",
       "      <td>NaN</td>\n",
       "      <td>NaN</td>\n",
       "      <td>NaN</td>\n",
       "      <td>NaN</td>\n",
       "      <td>NaN</td>\n",
       "      <td>NaN</td>\n",
       "      <td>NaN</td>\n",
       "      <td>NaN</td>\n",
       "      <td>NaN</td>\n",
       "      <td>fl</td>\n",
       "      <td>9.95</td>\n",
       "    </tr>\n",
       "  </tbody>\n",
       "</table>\n",
       "</div>"
      ],
      "text/plain": [
       "           id        region  price  year manufacturer model condition  \\\n",
       "0  7222695916      prescott   6000   NaN          NaN   NaN       NaN   \n",
       "1  7218891961  fayetteville  11900   NaN          NaN   NaN       NaN   \n",
       "2  7221797935  florida keys  21000   NaN          NaN   NaN       NaN   \n",
       "\n",
       "  cylinders fuel  odometer title_status transmission  VIN drive size type  \\\n",
       "0       NaN  NaN       NaN          NaN          NaN  NaN   NaN  NaN  NaN   \n",
       "1       NaN  NaN       NaN          NaN          NaN  NaN   NaN  NaN  NaN   \n",
       "2       NaN  NaN       NaN          NaN          NaN  NaN   NaN  NaN  NaN   \n",
       "\n",
       "  paint_color state  priceLog  \n",
       "0         NaN    az      8.70  \n",
       "1         NaN    ar      9.38  \n",
       "2         NaN    fl      9.95  "
      ]
     },
     "execution_count": 34,
     "metadata": {},
     "output_type": "execute_result"
    }
   ],
   "source": [
    "#df['price'] = df['price'].fillna(df['price'].mean())\n",
    "#df = df[~np.isinf(df['price'])]\n",
    "df['priceLog'] = np.log(df['price'])\n",
    "df.head(3)"
   ]
  },
  {
   "cell_type": "code",
   "execution_count": 36,
   "metadata": {},
   "outputs": [
    {
     "data": {
      "image/png": "[encoded data removed]",
      "text/plain": [
       "<Figure size 640x480 with 1 Axes>"
      ]
     },
     "metadata": {},
     "output_type": "display_data"
    }
   ],
   "source": [
    "df['priceLog'].plot(kind = 'box', vert = False, title = 'Boxplot of PriceLog');"
   ]
  },
  {
   "cell_type": "code",
   "execution_count": 38,
   "metadata": {},
   "outputs": [],
   "source": [
    "#has_nan = df['priceLog'].isna().any().sum() \n",
    "#has_inf = np.isinf(df['priceLog']).any().sum()\n",
    "df_cleaned = df[~np.isinf(df['priceLog'])]\n",
    "#has_inf = np.isinf(df_cleaned['priceLog']).any().sum()\n",
    "#print(has_nan)\n",
    "#print(has_inf)"
   ]
  },
  {
   "cell_type": "code",
   "execution_count": 40,
   "metadata": {},
   "outputs": [
    {
     "data": {
      "image/png": "[encoded data removed]",
      "text/plain": [
       "<Figure size 640x480 with 1 Axes>"
      ]
     },
     "metadata": {},
     "output_type": "display_data"
    }
   ],
   "source": [
    "df_cleaned['priceLog'].plot(kind = 'kde', title = 'Density plot of log of Price');"
   ]
  },
  {
   "cell_type": "code",
   "execution_count": 42,
   "metadata": {},
   "outputs": [
    {
     "data": {
      "image/png": "[encoded data removed]",
      "text/plain": [
       "<Figure size 640x480 with 1 Axes>"
      ]
     },
     "metadata": {},
     "output_type": "display_data"
    }
   ],
   "source": [
    "df_cleaned['priceLog'].plot(kind = 'hist', bins = 40, title = 'Histogram plot of log of Price');"
   ]
  },
  {
   "cell_type": "code",
   "execution_count": 44,
   "metadata": {},
   "outputs": [],
   "source": [
    "#sns.pairplot(df_cleaned)"
   ]
  },
  {
   "cell_type": "code",
   "execution_count": 46,
   "metadata": {},
   "outputs": [],
   "source": [
    "\n",
    "#df['price'] = df['price'].astype(int)"
   ]
  },
  {
   "cell_type": "code",
   "execution_count": 48,
   "metadata": {},
   "outputs": [
    {
     "data": {
      "text/html": [
       "<div>\n",
       "<style scoped>\n",
       "    .dataframe tbody tr th:only-of-type {\n",
       "        vertical-align: middle;\n",
       "    }\n",
       "\n",
       "    .dataframe tbody tr th {\n",
       "        vertical-align: top;\n",
       "    }\n",
       "\n",
       "    .dataframe thead th {\n",
       "        text-align: right;\n",
       "    }\n",
       "</style>\n",
       "<table border=\"1\" class=\"dataframe\">\n",
       "  <thead>\n",
       "    <tr style=\"text-align: right;\">\n",
       "      <th></th>\n",
       "      <th>id</th>\n",
       "      <th>region</th>\n",
       "      <th>price</th>\n",
       "      <th>year</th>\n",
       "      <th>manufacturer</th>\n",
       "      <th>model</th>\n",
       "      <th>condition</th>\n",
       "      <th>cylinders</th>\n",
       "      <th>fuel</th>\n",
       "      <th>odometer</th>\n",
       "      <th>title_status</th>\n",
       "      <th>transmission</th>\n",
       "      <th>VIN</th>\n",
       "      <th>drive</th>\n",
       "      <th>size</th>\n",
       "      <th>type</th>\n",
       "      <th>paint_color</th>\n",
       "      <th>state</th>\n",
       "      <th>priceLog</th>\n",
       "    </tr>\n",
       "  </thead>\n",
       "  <tbody>\n",
       "    <tr>\n",
       "      <th>232310</th>\n",
       "      <td>7315010006</td>\n",
       "      <td>charlotte</td>\n",
       "      <td>29999</td>\n",
       "      <td>2013.00</td>\n",
       "      <td>bmw</td>\n",
       "      <td>m3</td>\n",
       "      <td>NaN</td>\n",
       "      <td>NaN</td>\n",
       "      <td>gas</td>\n",
       "      <td>76577.00</td>\n",
       "      <td>clean</td>\n",
       "      <td>automatic</td>\n",
       "      <td>WBSDX9C54DE785553</td>\n",
       "      <td>NaN</td>\n",
       "      <td>sub-compact</td>\n",
       "      <td>convertible</td>\n",
       "      <td>NaN</td>\n",
       "      <td>nc</td>\n",
       "      <td>10.31</td>\n",
       "    </tr>\n",
       "    <tr>\n",
       "      <th>153328</th>\n",
       "      <td>7303286600</td>\n",
       "      <td>indianapolis</td>\n",
       "      <td>26990</td>\n",
       "      <td>2018.00</td>\n",
       "      <td>volkswagen</td>\n",
       "      <td>beetle 2.0t se</td>\n",
       "      <td>good</td>\n",
       "      <td>NaN</td>\n",
       "      <td>gas</td>\n",
       "      <td>18794.00</td>\n",
       "      <td>clean</td>\n",
       "      <td>other</td>\n",
       "      <td>3VW5DAAT9JM506026</td>\n",
       "      <td>fwd</td>\n",
       "      <td>NaN</td>\n",
       "      <td>convertible</td>\n",
       "      <td>NaN</td>\n",
       "      <td>in</td>\n",
       "      <td>10.20</td>\n",
       "    </tr>\n",
       "    <tr>\n",
       "      <th>391925</th>\n",
       "      <td>7305096194</td>\n",
       "      <td>harrisonburg</td>\n",
       "      <td>26990</td>\n",
       "      <td>2018.00</td>\n",
       "      <td>alfa-romeo</td>\n",
       "      <td>romeo stelvio sport utility</td>\n",
       "      <td>good</td>\n",
       "      <td>NaN</td>\n",
       "      <td>gas</td>\n",
       "      <td>16757.00</td>\n",
       "      <td>clean</td>\n",
       "      <td>other</td>\n",
       "      <td>ZASFAKAN9J7B88921</td>\n",
       "      <td>NaN</td>\n",
       "      <td>NaN</td>\n",
       "      <td>hatchback</td>\n",
       "      <td>NaN</td>\n",
       "      <td>va</td>\n",
       "      <td>10.20</td>\n",
       "    </tr>\n",
       "    <tr>\n",
       "      <th>237785</th>\n",
       "      <td>7309120104</td>\n",
       "      <td>greensboro</td>\n",
       "      <td>0</td>\n",
       "      <td>2015.00</td>\n",
       "      <td>mercedes-benz</td>\n",
       "      <td>gl-class</td>\n",
       "      <td>NaN</td>\n",
       "      <td>8 cylinders</td>\n",
       "      <td>gas</td>\n",
       "      <td>55215.00</td>\n",
       "      <td>clean</td>\n",
       "      <td>automatic</td>\n",
       "      <td>NaN</td>\n",
       "      <td>4wd</td>\n",
       "      <td>mid-size</td>\n",
       "      <td>SUV</td>\n",
       "      <td>white</td>\n",
       "      <td>nc</td>\n",
       "      <td>-inf</td>\n",
       "    </tr>\n",
       "    <tr>\n",
       "      <th>81495</th>\n",
       "      <td>7304975847</td>\n",
       "      <td>pueblo</td>\n",
       "      <td>22494</td>\n",
       "      <td>2014.00</td>\n",
       "      <td>chevrolet</td>\n",
       "      <td>camaro</td>\n",
       "      <td>NaN</td>\n",
       "      <td>NaN</td>\n",
       "      <td>gas</td>\n",
       "      <td>95800.00</td>\n",
       "      <td>clean</td>\n",
       "      <td>automatic</td>\n",
       "      <td>2G1FJ1EJ9E9279808</td>\n",
       "      <td>NaN</td>\n",
       "      <td>NaN</td>\n",
       "      <td>other</td>\n",
       "      <td>NaN</td>\n",
       "      <td>co</td>\n",
       "      <td>10.02</td>\n",
       "    </tr>\n",
       "    <tr>\n",
       "      <th>190450</th>\n",
       "      <td>7311714940</td>\n",
       "      <td>western massachusetts</td>\n",
       "      <td>2988</td>\n",
       "      <td>2010.00</td>\n",
       "      <td>subaru</td>\n",
       "      <td>legacy</td>\n",
       "      <td>NaN</td>\n",
       "      <td>NaN</td>\n",
       "      <td>gas</td>\n",
       "      <td>206864.00</td>\n",
       "      <td>clean</td>\n",
       "      <td>automatic</td>\n",
       "      <td>4S3BMBE63A3236079</td>\n",
       "      <td>NaN</td>\n",
       "      <td>NaN</td>\n",
       "      <td>sedan</td>\n",
       "      <td>NaN</td>\n",
       "      <td>ma</td>\n",
       "      <td>8.00</td>\n",
       "    </tr>\n",
       "    <tr>\n",
       "      <th>327635</th>\n",
       "      <td>7308005391</td>\n",
       "      <td>salem</td>\n",
       "      <td>0</td>\n",
       "      <td>2020.00</td>\n",
       "      <td>chevrolet</td>\n",
       "      <td>silverado 1500</td>\n",
       "      <td>NaN</td>\n",
       "      <td>8 cylinders</td>\n",
       "      <td>gas</td>\n",
       "      <td>14811.00</td>\n",
       "      <td>clean</td>\n",
       "      <td>automatic</td>\n",
       "      <td>3GCNWAEF0LG234923</td>\n",
       "      <td>rwd</td>\n",
       "      <td>NaN</td>\n",
       "      <td>truck</td>\n",
       "      <td>NaN</td>\n",
       "      <td>or</td>\n",
       "      <td>-inf</td>\n",
       "    </tr>\n",
       "    <tr>\n",
       "      <th>102904</th>\n",
       "      <td>7310899361</td>\n",
       "      <td>ocala</td>\n",
       "      <td>1</td>\n",
       "      <td>2013.00</td>\n",
       "      <td>mercedes-benz</td>\n",
       "      <td>gl-class</td>\n",
       "      <td>excellent</td>\n",
       "      <td>8 cylinders</td>\n",
       "      <td>gas</td>\n",
       "      <td>79856.00</td>\n",
       "      <td>clean</td>\n",
       "      <td>other</td>\n",
       "      <td>4JGDF7CE3DA133699</td>\n",
       "      <td>4wd</td>\n",
       "      <td>compact</td>\n",
       "      <td>wagon</td>\n",
       "      <td>white</td>\n",
       "      <td>fl</td>\n",
       "      <td>0.00</td>\n",
       "    </tr>\n",
       "    <tr>\n",
       "      <th>355767</th>\n",
       "      <td>7308312451</td>\n",
       "      <td>knoxville</td>\n",
       "      <td>19999</td>\n",
       "      <td>2013.00</td>\n",
       "      <td>jeep</td>\n",
       "      <td>wrangler jk unlimited sport</td>\n",
       "      <td>excellent</td>\n",
       "      <td>6 cylinders</td>\n",
       "      <td>gas</td>\n",
       "      <td>173952.00</td>\n",
       "      <td>clean</td>\n",
       "      <td>automatic</td>\n",
       "      <td>NaN</td>\n",
       "      <td>4wd</td>\n",
       "      <td>mid-size</td>\n",
       "      <td>SUV</td>\n",
       "      <td>black</td>\n",
       "      <td>tn</td>\n",
       "      <td>9.90</td>\n",
       "    </tr>\n",
       "    <tr>\n",
       "      <th>85291</th>\n",
       "      <td>7306975793</td>\n",
       "      <td>hartford</td>\n",
       "      <td>12000</td>\n",
       "      <td>2009.00</td>\n",
       "      <td>audi</td>\n",
       "      <td>q7 tdi prestige</td>\n",
       "      <td>excellent</td>\n",
       "      <td>6 cylinders</td>\n",
       "      <td>diesel</td>\n",
       "      <td>150339.00</td>\n",
       "      <td>clean</td>\n",
       "      <td>automatic</td>\n",
       "      <td>WA1CM74L89D031365</td>\n",
       "      <td>4wd</td>\n",
       "      <td>NaN</td>\n",
       "      <td>SUV</td>\n",
       "      <td>white</td>\n",
       "      <td>ct</td>\n",
       "      <td>9.39</td>\n",
       "    </tr>\n",
       "  </tbody>\n",
       "</table>\n",
       "</div>"
      ],
      "text/plain": [
       "                id                 region  price    year   manufacturer  \\\n",
       "232310  7315010006              charlotte  29999 2013.00            bmw   \n",
       "153328  7303286600           indianapolis  26990 2018.00     volkswagen   \n",
       "391925  7305096194           harrisonburg  26990 2018.00     alfa-romeo   \n",
       "237785  7309120104             greensboro      0 2015.00  mercedes-benz   \n",
       "81495   7304975847                 pueblo  22494 2014.00      chevrolet   \n",
       "190450  7311714940  western massachusetts   2988 2010.00         subaru   \n",
       "327635  7308005391                  salem      0 2020.00      chevrolet   \n",
       "102904  7310899361                  ocala      1 2013.00  mercedes-benz   \n",
       "355767  7308312451              knoxville  19999 2013.00           jeep   \n",
       "85291   7306975793               hartford  12000 2009.00           audi   \n",
       "\n",
       "                              model  condition    cylinders    fuel  odometer  \\\n",
       "232310                           m3        NaN          NaN     gas  76577.00   \n",
       "153328               beetle 2.0t se       good          NaN     gas  18794.00   \n",
       "391925  romeo stelvio sport utility       good          NaN     gas  16757.00   \n",
       "237785                     gl-class        NaN  8 cylinders     gas  55215.00   \n",
       "81495                        camaro        NaN          NaN     gas  95800.00   \n",
       "190450                       legacy        NaN          NaN     gas 206864.00   \n",
       "327635               silverado 1500        NaN  8 cylinders     gas  14811.00   \n",
       "102904                     gl-class  excellent  8 cylinders     gas  79856.00   \n",
       "355767  wrangler jk unlimited sport  excellent  6 cylinders     gas 173952.00   \n",
       "85291               q7 tdi prestige  excellent  6 cylinders  diesel 150339.00   \n",
       "\n",
       "       title_status transmission                VIN drive         size  \\\n",
       "232310        clean    automatic  WBSDX9C54DE785553   NaN  sub-compact   \n",
       "153328        clean        other  3VW5DAAT9JM506026   fwd          NaN   \n",
       "391925        clean        other  ZASFAKAN9J7B88921   NaN          NaN   \n",
       "237785        clean    automatic                NaN   4wd     mid-size   \n",
       "81495         clean    automatic  2G1FJ1EJ9E9279808   NaN          NaN   \n",
       "190450        clean    automatic  4S3BMBE63A3236079   NaN          NaN   \n",
       "327635        clean    automatic  3GCNWAEF0LG234923   rwd          NaN   \n",
       "102904        clean        other  4JGDF7CE3DA133699   4wd      compact   \n",
       "355767        clean    automatic                NaN   4wd     mid-size   \n",
       "85291         clean    automatic  WA1CM74L89D031365   4wd          NaN   \n",
       "\n",
       "               type paint_color state  priceLog  \n",
       "232310  convertible         NaN    nc     10.31  \n",
       "153328  convertible         NaN    in     10.20  \n",
       "391925    hatchback         NaN    va     10.20  \n",
       "237785          SUV       white    nc      -inf  \n",
       "81495         other         NaN    co     10.02  \n",
       "190450        sedan         NaN    ma      8.00  \n",
       "327635        truck         NaN    or      -inf  \n",
       "102904        wagon       white    fl      0.00  \n",
       "355767          SUV       black    tn      9.90  \n",
       "85291           SUV       white    ct      9.39  "
      ]
     },
     "execution_count": 48,
     "metadata": {},
     "output_type": "execute_result"
    }
   ],
   "source": [
    "df.sample(10)"
   ]
  },
  {
   "cell_type": "markdown",
   "metadata": {},
   "source": [
    "### Data Preparation\n",
    "\n",
    "After our initial exploration and fine-tuning of the business understanding, it is time to construct our final dataset prior to modeling.  Here, we want to make sure to handle any integrity issues and cleaning, the engineering of new features, any transformations that we believe should happen (scaling, logarithms, normalization, etc.), and general preparation for modeling with `sklearn`. "
   ]
  },
  {
   "cell_type": "code",
   "execution_count": 51,
   "metadata": {},
   "outputs": [],
   "source": [
    "df_zscore = df[np.abs(stats.zscore(df['price'])) < 0.5].copy()"
   ]
  },
  {
   "cell_type": "code",
   "execution_count": 53,
   "metadata": {},
   "outputs": [
    {
     "data": {
      "text/plain": [
       "(426849, 19)"
      ]
     },
     "execution_count": 53,
     "metadata": {},
     "output_type": "execute_result"
    }
   ],
   "source": [
    "df_zscore.shape"
   ]
  },
  {
   "cell_type": "code",
   "execution_count": 55,
   "metadata": {},
   "outputs": [
    {
     "name": "stdout",
     "output_type": "stream",
     "text": [
      "We lost 0.007262% of the data by the z-score method\n"
     ]
    }
   ],
   "source": [
    "zscore_data_lost = 1 - (df_zscore.shape[0]/df.shape[0])\n",
    "print(\"We lost {:.6%} of the data by the z-score method\" .format(zscore_data_lost))"
   ]
  },
  {
   "cell_type": "code",
   "execution_count": 57,
   "metadata": {},
   "outputs": [
    {
     "data": {
      "text/plain": [
       "count    426849.00\n",
       "mean      17552.14\n",
       "std       20667.53\n",
       "min           0.00\n",
       "25%        5900.00\n",
       "50%       13950.00\n",
       "75%       26455.00\n",
       "max     5000000.00\n",
       "Name: price, dtype: float64"
      ]
     },
     "execution_count": 57,
     "metadata": {},
     "output_type": "execute_result"
    }
   ],
   "source": [
    "df_zscore['price'].describe()"
   ]
  },
  {
   "cell_type": "code",
   "execution_count": 59,
   "metadata": {},
   "outputs": [
    {
     "data": {
      "image/png": "[encoded data removed]",
      "text/plain": [
       "<Figure size 640x480 with 1 Axes>"
      ]
     },
     "metadata": {},
     "output_type": "display_data"
    }
   ],
   "source": [
    "df_zscore['price'].plot(kind = 'box', vert = False, title = \"Boxplot of price after removing outlier using z-score\");"
   ]
  },
  {
   "cell_type": "code",
   "execution_count": 61,
   "metadata": {},
   "outputs": [
    {
     "data": {
      "text/plain": [
       "20585.75"
      ]
     },
     "execution_count": 61,
     "metadata": {},
     "output_type": "execute_result"
    }
   ],
   "source": [
    "irq = df['price'].quantile(.75) - df['price'].quantile(.25)\n",
    "irq"
   ]
  },
  {
   "cell_type": "code",
   "execution_count": 63,
   "metadata": {},
   "outputs": [],
   "source": [
    "lower_bound = df['price'].quantile(.25) - 1.5 * irq\n",
    "upper_bound = df['price'].quantile(.75) + 1.5 * irq\n",
    "df_irq = df[(df['price'] > lower_bound) & (df['price'] > upper_bound)].copy()"
   ]
  },
  {
   "cell_type": "code",
   "execution_count": 65,
   "metadata": {},
   "outputs": [
    {
     "name": "stdout",
     "output_type": "stream",
     "text": [
      "We lost 98.08% of the data by the IRQ method\n"
     ]
    }
   ],
   "source": [
    "irq_data_lost = 1 - (df_irq.shape[0]/df.shape[0])\n",
    "print(\"We lost {:.2%} of the data by the IRQ method\" .format(irq_data_lost))"
   ]
  },
  {
   "cell_type": "code",
   "execution_count": 67,
   "metadata": {},
   "outputs": [
    {
     "data": {
      "image/png": "[encoded data removed]",
      "text/plain": [
       "<Figure size 640x480 with 1 Axes>"
      ]
     },
     "metadata": {},
     "output_type": "display_data"
    }
   ],
   "source": [
    "df_irq['price'].plot(kind = 'box' , vert = False, title = \"Boxplot of price after removing outlier by IRQ method\");"
   ]
  },
  {
   "cell_type": "code",
   "execution_count": 69,
   "metadata": {},
   "outputs": [
    {
     "data": {
      "text/plain": [
       "count         8177.00\n",
       "mean       3088930.26\n",
       "std       87973256.90\n",
       "min          57400.00\n",
       "25%          61000.00\n",
       "50%          67995.00\n",
       "75%          77999.00\n",
       "max     3736928711.00\n",
       "Name: price, dtype: float64"
      ]
     },
     "execution_count": 69,
     "metadata": {},
     "output_type": "execute_result"
    }
   ],
   "source": [
    "df_irq['price'].describe()"
   ]
  },
  {
   "cell_type": "code",
   "execution_count": 71,
   "metadata": {},
   "outputs": [
    {
     "data": {
      "text/plain": [
       "<Axes: xlabel='odometer', ylabel='price'>"
      ]
     },
     "execution_count": 71,
     "metadata": {},
     "output_type": "execute_result"
    },
    {
     "data": {
      "image/png": "[encoded data removed]",
      "text/plain": [
       "<Figure size 640x480 with 1 Axes>"
      ]
     },
     "metadata": {},
     "output_type": "display_data"
    }
   ],
   "source": [
    "df.plot(kind = 'scatter', x = \"odometer\" , y = \"price\")"
   ]
  },
  {
   "cell_type": "code",
   "execution_count": 73,
   "metadata": {},
   "outputs": [
    {
     "data": {
      "text/plain": [
       "<Axes: >"
      ]
     },
     "execution_count": 73,
     "metadata": {},
     "output_type": "execute_result"
    },
    {
     "data": {
      "image/png": "[encoded data removed]",
      "text/plain": [
       "<Figure size 640x480 with 2 Axes>"
      ]
     },
     "metadata": {},
     "output_type": "display_data"
    }
   ],
   "source": [
    "correlation = df.corr(numeric_only = True)\n",
    "sns.heatmap(correlation, annot = True)"
   ]
  },
  {
   "cell_type": "code",
   "execution_count": 75,
   "metadata": {},
   "outputs": [
    {
     "data": {
      "text/plain": [
       "<Axes: >"
      ]
     },
     "execution_count": 75,
     "metadata": {},
     "output_type": "execute_result"
    },
    {
     "data": {
      "image/png": "[encoded data removed]",
      "text/plain": [
       "<Figure size 640x480 with 2 Axes>"
      ]
     },
     "metadata": {},
     "output_type": "display_data"
    }
   ],
   "source": [
    "mask = np.triu(np.ones_like(df.corr(numeric_only = True).round(2)))\n",
    "sns.heatmap(correlation, annot=True, mask=mask, cmap=\"YlGnBu\")"
   ]
  },
  {
   "cell_type": "code",
   "execution_count": 77,
   "metadata": {},
   "outputs": [],
   "source": [
    "#sns.pairplot(df[0:300])"
   ]
  },
  {
   "cell_type": "code",
   "execution_count": 79,
   "metadata": {},
   "outputs": [
    {
     "data": {
      "text/plain": [
       "array([nan, 'clean', 'rebuilt', 'lien', 'salvage', 'missing',\n",
       "       'parts only'], dtype=object)"
      ]
     },
     "execution_count": 79,
     "metadata": {},
     "output_type": "execute_result"
    }
   ],
   "source": [
    "df['title_status'].unique()"
   ]
  },
  {
   "cell_type": "code",
   "execution_count": 81,
   "metadata": {},
   "outputs": [
    {
     "data": {
      "text/plain": [
       "array([nan, 'other', 'automatic', 'manual'], dtype=object)"
      ]
     },
     "execution_count": 81,
     "metadata": {},
     "output_type": "execute_result"
    }
   ],
   "source": [
    "df['transmission'].unique()"
   ]
  },
  {
   "cell_type": "code",
   "execution_count": 83,
   "metadata": {},
   "outputs": [
    {
     "data": {
      "text/plain": [
       "array([nan, 'good', 'excellent', 'fair', 'like new', 'new', 'salvage'],\n",
       "      dtype=object)"
      ]
     },
     "execution_count": 83,
     "metadata": {},
     "output_type": "execute_result"
    }
   ],
   "source": [
    "df['condition'].unique()"
   ]
  },
  {
   "cell_type": "code",
   "execution_count": 85,
   "metadata": {},
   "outputs": [
    {
     "data": {
      "text/html": [
       "<div>\n",
       "<style scoped>\n",
       "    .dataframe tbody tr th:only-of-type {\n",
       "        vertical-align: middle;\n",
       "    }\n",
       "\n",
       "    .dataframe tbody tr th {\n",
       "        vertical-align: top;\n",
       "    }\n",
       "\n",
       "    .dataframe thead th {\n",
       "        text-align: right;\n",
       "    }\n",
       "</style>\n",
       "<table border=\"1\" class=\"dataframe\">\n",
       "  <thead>\n",
       "    <tr style=\"text-align: right;\">\n",
       "      <th></th>\n",
       "      <th>count</th>\n",
       "      <th>mean</th>\n",
       "      <th>std</th>\n",
       "      <th>min</th>\n",
       "      <th>25%</th>\n",
       "      <th>50%</th>\n",
       "      <th>75%</th>\n",
       "      <th>max</th>\n",
       "    </tr>\n",
       "    <tr>\n",
       "      <th>transmission</th>\n",
       "      <th></th>\n",
       "      <th></th>\n",
       "      <th></th>\n",
       "      <th></th>\n",
       "      <th></th>\n",
       "      <th></th>\n",
       "      <th></th>\n",
       "      <th></th>\n",
       "    </tr>\n",
       "  </thead>\n",
       "  <tbody>\n",
       "    <tr>\n",
       "      <th>automatic</th>\n",
       "      <td>336524.00</td>\n",
       "      <td>74881.00</td>\n",
       "      <td>13113970.10</td>\n",
       "      <td>0.00</td>\n",
       "      <td>4999.00</td>\n",
       "      <td>11450.00</td>\n",
       "      <td>22775.00</td>\n",
       "      <td>3736928711.00</td>\n",
       "    </tr>\n",
       "    <tr>\n",
       "      <th>manual</th>\n",
       "      <td>25118.00</td>\n",
       "      <td>198416.34</td>\n",
       "      <td>14747142.05</td>\n",
       "      <td>0.00</td>\n",
       "      <td>4500.00</td>\n",
       "      <td>9000.00</td>\n",
       "      <td>18995.00</td>\n",
       "      <td>1410065407.00</td>\n",
       "    </tr>\n",
       "    <tr>\n",
       "      <th>other</th>\n",
       "      <td>62682.00</td>\n",
       "      <td>30003.79</td>\n",
       "      <td>495473.78</td>\n",
       "      <td>0.00</td>\n",
       "      <td>20590.00</td>\n",
       "      <td>27990.00</td>\n",
       "      <td>34990.00</td>\n",
       "      <td>123456789.00</td>\n",
       "    </tr>\n",
       "  </tbody>\n",
       "</table>\n",
       "</div>"
      ],
      "text/plain": [
       "                 count      mean         std  min      25%      50%      75%  \\\n",
       "transmission                                                                   \n",
       "automatic    336524.00  74881.00 13113970.10 0.00  4999.00 11450.00 22775.00   \n",
       "manual        25118.00 198416.34 14747142.05 0.00  4500.00  9000.00 18995.00   \n",
       "other         62682.00  30003.79   495473.78 0.00 20590.00 27990.00 34990.00   \n",
       "\n",
       "                       max  \n",
       "transmission                \n",
       "automatic    3736928711.00  \n",
       "manual       1410065407.00  \n",
       "other         123456789.00  "
      ]
     },
     "execution_count": 85,
     "metadata": {},
     "output_type": "execute_result"
    }
   ],
   "source": [
    "df.groupby('transmission')['price'].describe()"
   ]
  },
  {
   "cell_type": "code",
   "execution_count": 87,
   "metadata": {},
   "outputs": [
    {
     "data": {
      "text/html": [
       "<div>\n",
       "<style scoped>\n",
       "    .dataframe tbody tr th:only-of-type {\n",
       "        vertical-align: middle;\n",
       "    }\n",
       "\n",
       "    .dataframe tbody tr th {\n",
       "        vertical-align: top;\n",
       "    }\n",
       "\n",
       "    .dataframe thead th {\n",
       "        text-align: right;\n",
       "    }\n",
       "</style>\n",
       "<table border=\"1\" class=\"dataframe\">\n",
       "  <thead>\n",
       "    <tr style=\"text-align: right;\">\n",
       "      <th></th>\n",
       "      <th>count</th>\n",
       "      <th>mean</th>\n",
       "      <th>std</th>\n",
       "      <th>min</th>\n",
       "      <th>25%</th>\n",
       "      <th>50%</th>\n",
       "      <th>75%</th>\n",
       "      <th>max</th>\n",
       "    </tr>\n",
       "    <tr>\n",
       "      <th>title_status</th>\n",
       "      <th></th>\n",
       "      <th></th>\n",
       "      <th></th>\n",
       "      <th></th>\n",
       "      <th></th>\n",
       "      <th></th>\n",
       "      <th></th>\n",
       "      <th></th>\n",
       "    </tr>\n",
       "  </thead>\n",
       "  <tbody>\n",
       "    <tr>\n",
       "      <th>clean</th>\n",
       "      <td>405117.00</td>\n",
       "      <td>78443.78</td>\n",
       "      <td>12505181.30</td>\n",
       "      <td>0.00</td>\n",
       "      <td>5959.00</td>\n",
       "      <td>13997.00</td>\n",
       "      <td>26990.00</td>\n",
       "      <td>3736928711.00</td>\n",
       "    </tr>\n",
       "    <tr>\n",
       "      <th>lien</th>\n",
       "      <td>1422.00</td>\n",
       "      <td>22424.00</td>\n",
       "      <td>22006.34</td>\n",
       "      <td>0.00</td>\n",
       "      <td>10500.00</td>\n",
       "      <td>17877.50</td>\n",
       "      <td>29000.00</td>\n",
       "      <td>554900.00</td>\n",
       "    </tr>\n",
       "    <tr>\n",
       "      <th>missing</th>\n",
       "      <td>814.00</td>\n",
       "      <td>21650.31</td>\n",
       "      <td>142278.98</td>\n",
       "      <td>0.00</td>\n",
       "      <td>1000.00</td>\n",
       "      <td>2500.00</td>\n",
       "      <td>6000.00</td>\n",
       "      <td>1234567.00</td>\n",
       "    </tr>\n",
       "    <tr>\n",
       "      <th>parts only</th>\n",
       "      <td>198.00</td>\n",
       "      <td>11503.50</td>\n",
       "      <td>118352.96</td>\n",
       "      <td>0.00</td>\n",
       "      <td>500.00</td>\n",
       "      <td>1200.00</td>\n",
       "      <td>3000.00</td>\n",
       "      <td>1666666.00</td>\n",
       "    </tr>\n",
       "    <tr>\n",
       "      <th>rebuilt</th>\n",
       "      <td>7219.00</td>\n",
       "      <td>15093.01</td>\n",
       "      <td>200176.07</td>\n",
       "      <td>0.00</td>\n",
       "      <td>6500.00</td>\n",
       "      <td>10300.00</td>\n",
       "      <td>16000.00</td>\n",
       "      <td>17000000.00</td>\n",
       "    </tr>\n",
       "    <tr>\n",
       "      <th>salvage</th>\n",
       "      <td>3868.00</td>\n",
       "      <td>10269.27</td>\n",
       "      <td>21421.13</td>\n",
       "      <td>0.00</td>\n",
       "      <td>3800.00</td>\n",
       "      <td>7000.00</td>\n",
       "      <td>12900.00</td>\n",
       "      <td>1000000.00</td>\n",
       "    </tr>\n",
       "  </tbody>\n",
       "</table>\n",
       "</div>"
      ],
      "text/plain": [
       "                 count     mean         std  min      25%      50%      75%  \\\n",
       "title_status                                                                  \n",
       "clean        405117.00 78443.78 12505181.30 0.00  5959.00 13997.00 26990.00   \n",
       "lien           1422.00 22424.00    22006.34 0.00 10500.00 17877.50 29000.00   \n",
       "missing         814.00 21650.31   142278.98 0.00  1000.00  2500.00  6000.00   \n",
       "parts only      198.00 11503.50   118352.96 0.00   500.00  1200.00  3000.00   \n",
       "rebuilt        7219.00 15093.01   200176.07 0.00  6500.00 10300.00 16000.00   \n",
       "salvage        3868.00 10269.27    21421.13 0.00  3800.00  7000.00 12900.00   \n",
       "\n",
       "                       max  \n",
       "title_status                \n",
       "clean        3736928711.00  \n",
       "lien             554900.00  \n",
       "missing         1234567.00  \n",
       "parts only      1666666.00  \n",
       "rebuilt        17000000.00  \n",
       "salvage         1000000.00  "
      ]
     },
     "execution_count": 87,
     "metadata": {},
     "output_type": "execute_result"
    }
   ],
   "source": [
    "df.groupby('title_status')['price'].describe()"
   ]
  },
  {
   "cell_type": "code",
   "execution_count": 89,
   "metadata": {},
   "outputs": [
    {
     "data": {
      "text/html": [
       "<div>\n",
       "<style scoped>\n",
       "    .dataframe tbody tr th:only-of-type {\n",
       "        vertical-align: middle;\n",
       "    }\n",
       "\n",
       "    .dataframe tbody tr th {\n",
       "        vertical-align: top;\n",
       "    }\n",
       "\n",
       "    .dataframe thead th {\n",
       "        text-align: right;\n",
       "    }\n",
       "</style>\n",
       "<table border=\"1\" class=\"dataframe\">\n",
       "  <thead>\n",
       "    <tr style=\"text-align: right;\">\n",
       "      <th></th>\n",
       "      <th>count</th>\n",
       "      <th>mean</th>\n",
       "      <th>std</th>\n",
       "      <th>min</th>\n",
       "      <th>25%</th>\n",
       "      <th>50%</th>\n",
       "      <th>75%</th>\n",
       "      <th>max</th>\n",
       "    </tr>\n",
       "    <tr>\n",
       "      <th>condition</th>\n",
       "      <th></th>\n",
       "      <th></th>\n",
       "      <th></th>\n",
       "      <th></th>\n",
       "      <th></th>\n",
       "      <th></th>\n",
       "      <th></th>\n",
       "      <th></th>\n",
       "    </tr>\n",
       "  </thead>\n",
       "  <tbody>\n",
       "    <tr>\n",
       "      <th>excellent</th>\n",
       "      <td>101467.00</td>\n",
       "      <td>51346.83</td>\n",
       "      <td>11731431.48</td>\n",
       "      <td>0.00</td>\n",
       "      <td>5999.50</td>\n",
       "      <td>10995.00</td>\n",
       "      <td>18990.00</td>\n",
       "      <td>3736928711.00</td>\n",
       "    </tr>\n",
       "    <tr>\n",
       "      <th>fair</th>\n",
       "      <td>6769.00</td>\n",
       "      <td>761090.01</td>\n",
       "      <td>47857081.19</td>\n",
       "      <td>0.00</td>\n",
       "      <td>1500.00</td>\n",
       "      <td>2800.00</td>\n",
       "      <td>4900.00</td>\n",
       "      <td>3736928711.00</td>\n",
       "    </tr>\n",
       "    <tr>\n",
       "      <th>good</th>\n",
       "      <td>121456.00</td>\n",
       "      <td>32545.20</td>\n",
       "      <td>3228825.93</td>\n",
       "      <td>0.00</td>\n",
       "      <td>7900.00</td>\n",
       "      <td>19995.00</td>\n",
       "      <td>30990.00</td>\n",
       "      <td>1111111111.00</td>\n",
       "    </tr>\n",
       "    <tr>\n",
       "      <th>like new</th>\n",
       "      <td>21178.00</td>\n",
       "      <td>36402.04</td>\n",
       "      <td>1516448.97</td>\n",
       "      <td>0.00</td>\n",
       "      <td>6800.00</td>\n",
       "      <td>13950.00</td>\n",
       "      <td>25000.00</td>\n",
       "      <td>135008900.00</td>\n",
       "    </tr>\n",
       "    <tr>\n",
       "      <th>new</th>\n",
       "      <td>1305.00</td>\n",
       "      <td>23657.27</td>\n",
       "      <td>26895.25</td>\n",
       "      <td>0.00</td>\n",
       "      <td>1000.00</td>\n",
       "      <td>15900.00</td>\n",
       "      <td>35114.00</td>\n",
       "      <td>182000.00</td>\n",
       "    </tr>\n",
       "    <tr>\n",
       "      <th>salvage</th>\n",
       "      <td>601.00</td>\n",
       "      <td>3605.53</td>\n",
       "      <td>4706.32</td>\n",
       "      <td>0.00</td>\n",
       "      <td>950.00</td>\n",
       "      <td>1800.00</td>\n",
       "      <td>4500.00</td>\n",
       "      <td>35989.00</td>\n",
       "    </tr>\n",
       "  </tbody>\n",
       "</table>\n",
       "</div>"
      ],
      "text/plain": [
       "              count      mean         std  min     25%      50%      75%  \\\n",
       "condition                                                                  \n",
       "excellent 101467.00  51346.83 11731431.48 0.00 5999.50 10995.00 18990.00   \n",
       "fair        6769.00 761090.01 47857081.19 0.00 1500.00  2800.00  4900.00   \n",
       "good      121456.00  32545.20  3228825.93 0.00 7900.00 19995.00 30990.00   \n",
       "like new   21178.00  36402.04  1516448.97 0.00 6800.00 13950.00 25000.00   \n",
       "new         1305.00  23657.27    26895.25 0.00 1000.00 15900.00 35114.00   \n",
       "salvage      601.00   3605.53     4706.32 0.00  950.00  1800.00  4500.00   \n",
       "\n",
       "                    max  \n",
       "condition                \n",
       "excellent 3736928711.00  \n",
       "fair      3736928711.00  \n",
       "good      1111111111.00  \n",
       "like new   135008900.00  \n",
       "new           182000.00  \n",
       "salvage        35989.00  "
      ]
     },
     "execution_count": 89,
     "metadata": {},
     "output_type": "execute_result"
    }
   ],
   "source": [
    "df.groupby('condition')['price'].describe()"
   ]
  },
  {
   "cell_type": "code",
   "execution_count": 91,
   "metadata": {},
   "outputs": [
    {
     "data": {
      "image/png": "[encoded data removed]",
      "text/plain": [
       "<Figure size 640x480 with 1 Axes>"
      ]
     },
     "metadata": {},
     "output_type": "display_data"
    }
   ],
   "source": [
    "sns.boxplot(x = 'condition', y = 'priceLog', data = df, hue = 'condition');"
   ]
  },
  {
   "cell_type": "code",
   "execution_count": 93,
   "metadata": {},
   "outputs": [
    {
     "data": {
      "image/png": "[encoded data removed]",
      "text/plain": [
       "<Figure size 640x480 with 1 Axes>"
      ]
     },
     "metadata": {},
     "output_type": "display_data"
    }
   ],
   "source": [
    "sns.boxplot(x = 'title_status', y = 'priceLog', data = df, hue = 'title_status');"
   ]
  },
  {
   "cell_type": "code",
   "execution_count": 95,
   "metadata": {},
   "outputs": [
    {
     "data": {
      "image/png": "[encoded data removed]",
      "text/plain": [
       "<Figure size 640x480 with 1 Axes>"
      ]
     },
     "metadata": {},
     "output_type": "display_data"
    }
   ],
   "source": [
    "sns.boxplot(x = 'transmission', y = 'priceLog', data = df, hue = 'transmission');"
   ]
  },
  {
   "cell_type": "code",
   "execution_count": 97,
   "metadata": {},
   "outputs": [
    {
     "data": {
      "image/png": "[encoded data removed]",
      "text/plain": [
       "<Figure size 640x480 with 1 Axes>"
      ]
     },
     "metadata": {},
     "output_type": "display_data"
    }
   ],
   "source": [
    "sns.violinplot(x = 'title_status', y = 'priceLog', data = df, hue = 'title_status');"
   ]
  },
  {
   "cell_type": "code",
   "execution_count": 99,
   "metadata": {},
   "outputs": [
    {
     "data": {
      "image/png": "[encoded data removed]",
      "text/plain": [
       "<Figure size 640x480 with 1 Axes>"
      ]
     },
     "metadata": {},
     "output_type": "display_data"
    }
   ],
   "source": [
    "sns.violinplot(x = 'condition', y = 'priceLog', data = df, hue = 'condition');"
   ]
  },
  {
   "cell_type": "code",
   "execution_count": 101,
   "metadata": {},
   "outputs": [
    {
     "data": {
      "text/html": [
       "<div>\n",
       "<style scoped>\n",
       "    .dataframe tbody tr th:only-of-type {\n",
       "        vertical-align: middle;\n",
       "    }\n",
       "\n",
       "    .dataframe tbody tr th {\n",
       "        vertical-align: top;\n",
       "    }\n",
       "\n",
       "    .dataframe thead th {\n",
       "        text-align: right;\n",
       "    }\n",
       "</style>\n",
       "<table border=\"1\" class=\"dataframe\">\n",
       "  <thead>\n",
       "    <tr style=\"text-align: right;\">\n",
       "      <th></th>\n",
       "      <th>id</th>\n",
       "      <th>price</th>\n",
       "      <th>odometer</th>\n",
       "    </tr>\n",
       "  </thead>\n",
       "  <tbody>\n",
       "    <tr>\n",
       "      <th>0</th>\n",
       "      <td>7222695916</td>\n",
       "      <td>6000</td>\n",
       "      <td>NaN</td>\n",
       "    </tr>\n",
       "    <tr>\n",
       "      <th>1</th>\n",
       "      <td>7218891961</td>\n",
       "      <td>11900</td>\n",
       "      <td>NaN</td>\n",
       "    </tr>\n",
       "    <tr>\n",
       "      <th>2</th>\n",
       "      <td>7221797935</td>\n",
       "      <td>21000</td>\n",
       "      <td>NaN</td>\n",
       "    </tr>\n",
       "  </tbody>\n",
       "</table>\n",
       "</div>"
      ],
      "text/plain": [
       "           id  price  odometer\n",
       "0  7222695916   6000       NaN\n",
       "1  7218891961  11900       NaN\n",
       "2  7221797935  21000       NaN"
      ]
     },
     "execution_count": 101,
     "metadata": {},
     "output_type": "execute_result"
    }
   ],
   "source": [
    "df.select_dtypes(['int','float']).drop(columns = {'year', 'priceLog'}).head(3)"
   ]
  },
  {
   "cell_type": "code",
   "execution_count": 103,
   "metadata": {},
   "outputs": [
    {
     "data": {
      "text/html": [
       "<div>\n",
       "<style scoped>\n",
       "    .dataframe tbody tr th:only-of-type {\n",
       "        vertical-align: middle;\n",
       "    }\n",
       "\n",
       "    .dataframe tbody tr th {\n",
       "        vertical-align: top;\n",
       "    }\n",
       "\n",
       "    .dataframe thead th {\n",
       "        text-align: right;\n",
       "    }\n",
       "</style>\n",
       "<table border=\"1\" class=\"dataframe\">\n",
       "  <thead>\n",
       "    <tr style=\"text-align: right;\">\n",
       "      <th></th>\n",
       "      <th>price</th>\n",
       "      <th>odometer</th>\n",
       "    </tr>\n",
       "  </thead>\n",
       "  <tbody>\n",
       "    <tr>\n",
       "      <th>248515</th>\n",
       "      <td>19000</td>\n",
       "      <td>582360.00</td>\n",
       "    </tr>\n",
       "    <tr>\n",
       "      <th>147991</th>\n",
       "      <td>0</td>\n",
       "      <td>80000.00</td>\n",
       "    </tr>\n",
       "    <tr>\n",
       "      <th>22286</th>\n",
       "      <td>58990</td>\n",
       "      <td>22177.00</td>\n",
       "    </tr>\n",
       "    <tr>\n",
       "      <th>287037</th>\n",
       "      <td>3000</td>\n",
       "      <td>113789.00</td>\n",
       "    </tr>\n",
       "    <tr>\n",
       "      <th>233116</th>\n",
       "      <td>25750</td>\n",
       "      <td>141601.00</td>\n",
       "    </tr>\n",
       "  </tbody>\n",
       "</table>\n",
       "</div>"
      ],
      "text/plain": [
       "        price  odometer\n",
       "248515  19000 582360.00\n",
       "147991      0  80000.00\n",
       "22286   58990  22177.00\n",
       "287037   3000 113789.00\n",
       "233116  25750 141601.00"
      ]
     },
     "execution_count": 103,
     "metadata": {},
     "output_type": "execute_result"
    }
   ],
   "source": [
    "numeric_col = df.select_dtypes(['int','float']).drop(columns = {'id', 'year', 'priceLog'}).columns.tolist()\n",
    "df_numeric = df[numeric_col].copy()\n",
    "df_numeric.sample(5)"
   ]
  },
  {
   "cell_type": "code",
   "execution_count": 105,
   "metadata": {},
   "outputs": [
    {
     "data": {
      "text/plain": [
       "['price', 'odometer']"
      ]
     },
     "execution_count": 105,
     "metadata": {},
     "output_type": "execute_result"
    }
   ],
   "source": [
    "numeric_col"
   ]
  },
  {
   "cell_type": "code",
   "execution_count": 107,
   "metadata": {},
   "outputs": [
    {
     "data": {
      "text/plain": [
       "price      0.00\n",
       "odometer   0.01\n",
       "dtype: float64"
      ]
     },
     "execution_count": 107,
     "metadata": {},
     "output_type": "execute_result"
    }
   ],
   "source": [
    "df_numeric.isna().mean()"
   ]
  },
  {
   "cell_type": "markdown",
   "metadata": {},
   "source": [
    "### Modeling\n",
    "\n",
    "With your (almost?) final dataset in hand, it is now time to build some models.  Here, you should build a number of different regression models with the price as the target.  In building your models, you should explore different parameters and be sure to cross-validate your findings."
   ]
  },
  {
   "cell_type": "code",
   "execution_count": 110,
   "metadata": {},
   "outputs": [],
   "source": [
    "X = df_numeric.drop(columns = 'price')\n",
    "y = df_numeric['price']"
   ]
  },
  {
   "cell_type": "code",
   "execution_count": 112,
   "metadata": {},
   "outputs": [
    {
     "name": "stdout",
     "output_type": "stream",
     "text": [
      "<class 'pandas.core.frame.DataFrame'>\n",
      "RangeIndex: 426880 entries, 0 to 426879\n",
      "Data columns (total 1 columns):\n",
      " #   Column    Non-Null Count   Dtype  \n",
      "---  ------    --------------   -----  \n",
      " 0   odometer  422480 non-null  float64\n",
      "dtypes: float64(1)\n",
      "memory usage: 3.3 MB\n"
     ]
    }
   ],
   "source": [
    "X.info()"
   ]
  },
  {
   "cell_type": "code",
   "execution_count": 114,
   "metadata": {},
   "outputs": [
    {
     "name": "stdout",
     "output_type": "stream",
     "text": [
      "<class 'pandas.core.series.Series'>\n",
      "RangeIndex: 426880 entries, 0 to 426879\n",
      "Series name: price\n",
      "Non-Null Count   Dtype\n",
      "--------------   -----\n",
      "426880 non-null  int64\n",
      "dtypes: int64(1)\n",
      "memory usage: 3.3 MB\n"
     ]
    }
   ],
   "source": [
    "y.info()"
   ]
  },
  {
   "cell_type": "code",
   "execution_count": 116,
   "metadata": {},
   "outputs": [],
   "source": [
    "X_train, X_test, y_train, y_test = train_test_split(X,y,test_size = 0.20,random_state=23)"
   ]
  },
  {
   "cell_type": "code",
   "execution_count": 118,
   "metadata": {},
   "outputs": [
    {
     "name": "stdout",
     "output_type": "stream",
     "text": [
      "(341504, 1)\n",
      "(85376, 1)\n",
      "####################\n",
      "(341504,)\n",
      "(85376,)\n"
     ]
    }
   ],
   "source": [
    "print(X_train.shape)\n",
    "print(X_test.shape)\n",
    "print(\"#\" * 20)\n",
    "print(y_train.shape)\n",
    "print(y_test.shape)"
   ]
  },
  {
   "cell_type": "code",
   "execution_count": 120,
   "metadata": {},
   "outputs": [
    {
     "name": "stdout",
     "output_type": "stream",
     "text": [
      "odometer    3524\n",
      "dtype: int64\n"
     ]
    }
   ],
   "source": [
    "print(X_train.isna().sum())"
   ]
  },
  {
   "cell_type": "code",
   "execution_count": 122,
   "metadata": {},
   "outputs": [
    {
     "name": "stdout",
     "output_type": "stream",
     "text": [
      "odometer    876\n",
      "dtype: int64\n"
     ]
    }
   ],
   "source": [
    "print(X_test.isna().sum())"
   ]
  },
  {
   "cell_type": "code",
   "execution_count": 124,
   "metadata": {},
   "outputs": [],
   "source": [
    "from sklearn import set_config\n",
    "set_config(transform_output=\"pandas\")\n",
    "from sklearn.impute import SimpleImputer"
   ]
  },
  {
   "cell_type": "code",
   "execution_count": 126,
   "metadata": {},
   "outputs": [],
   "source": [
    "si = SimpleImputer(strategy = \"median\")\n",
    "X_train = si.fit_transform(X_train)\n",
    "\n",
    "X_test = si.transform(X_test)\n"
   ]
  },
  {
   "cell_type": "code",
   "execution_count": 128,
   "metadata": {},
   "outputs": [
    {
     "name": "stdout",
     "output_type": "stream",
     "text": [
      "odometer    0\n",
      "dtype: int64\n",
      "odometer    0\n",
      "dtype: int64\n"
     ]
    }
   ],
   "source": [
    "print(X_train.isna().sum())\n",
    "print(X_test.isna().sum())"
   ]
  },
  {
   "cell_type": "markdown",
   "metadata": {},
   "source": [
    "### Evaluation\n",
    "\n",
    "With some modeling accomplished, we aim to reflect on what we identify as a high-quality model and what we are able to learn from this.  We should review our business objective and explore how well we can provide meaningful insight into drivers of used car prices.  Your goal now is to distill your findings and determine whether the earlier phases need revisitation and adjustment or if you have information of value to bring back to your client."
   ]
  },
  {
   "cell_type": "code",
   "execution_count": 131,
   "metadata": {},
   "outputs": [
    {
     "data": {
      "text/plain": [
       "75199.0"
      ]
     },
     "execution_count": 131,
     "metadata": {},
     "output_type": "execute_result"
    }
   ],
   "source": [
    "y.mean().round(1)"
   ]
  },
  {
   "cell_type": "code",
   "execution_count": 133,
   "metadata": {},
   "outputs": [],
   "source": [
    "from sklearn.dummy import DummyRegressor\n",
    "dummy = DummyRegressor()"
   ]
  },
  {
   "cell_type": "code",
   "execution_count": 135,
   "metadata": {},
   "outputs": [
    {
     "name": "stdout",
     "output_type": "stream",
     "text": [
      "The value of dummy_r2 is  0.000000\n",
      "The value of dummy rmse is  5713727.589073\n"
     ]
    }
   ],
   "source": [
    "dummy.fit(X_train,y_train)\n",
    "dummy_r2 = dummy.score(X_train,y_train)\n",
    "print(\"The value of dummy_r2 is {: 2f}\".format(dummy_r2))\n",
    "\n",
    "dummy_predict = dummy.predict(X_test)\n",
    "dummy_rmse = mean_squared_error(y_test, dummy_predict, squared =False)\n",
    "print(\"The value of dummy rmse is {: 2f}\".format(dummy_rmse))"
   ]
  },
  {
   "cell_type": "code",
   "execution_count": 137,
   "metadata": {},
   "outputs": [
    {
     "data": {
      "text/plain": [
       "Text(0.5, 1.0, 'Comparison of Real VS Predicted values from Dummy Regression')"
      ]
     },
     "execution_count": 137,
     "metadata": {},
     "output_type": "execute_result"
    },
    {
     "data": {
      "image/png": "[encoded data removed]",
      "text/plain": [
       "<Figure size 640x480 with 1 Axes>"
      ]
     },
     "metadata": {},
     "output_type": "display_data"
    }
   ],
   "source": [
    "x = list(range(0,len(y_test)))\n",
    "sns.lineplot(x=x, y = y_test, label = 'actual_values');\n",
    "sns.lineplot(x=x, y = dummy_predict, label = 'dummy_predicted_values');\n",
    "plt.title(\"Comparison of Real VS Predicted values from Dummy Regression\")"
   ]
  },
  {
   "cell_type": "markdown",
   "metadata": {},
   "source": [
    "Linear Regression Model"
   ]
  },
  {
   "cell_type": "code",
   "execution_count": 140,
   "metadata": {},
   "outputs": [
    {
     "name": "stdout",
     "output_type": "stream",
     "text": [
      "The value of lr_r2 is  0.000127\n"
     ]
    }
   ],
   "source": [
    "lr = LinearRegression()\n",
    "lr.fit(X_train,y_train)\n",
    "lr_r2 = (lr.score(X_train, y_train))\n",
    "print(\"The value of lr_r2 is {: 2f}\".format(lr_r2))\n"
   ]
  },
  {
   "cell_type": "code",
   "execution_count": 142,
   "metadata": {},
   "outputs": [
    {
     "name": "stdout",
     "output_type": "stream",
     "text": [
      "The value of lr rmse is  5715380.669270\n"
     ]
    }
   ],
   "source": [
    "lr_predict = lr.predict(X_test)\n",
    "lr_rmse = mean_squared_error(y_test, lr_predict, squared =False)\n",
    "print(\"The value of lr rmse is {: 2f}\".format(lr_rmse))\n"
   ]
  },
  {
   "cell_type": "code",
   "execution_count": 144,
   "metadata": {},
   "outputs": [
    {
     "data": {
      "text/plain": [
       "Text(0.5, 1.0, 'Comparison of Real VS Predicted values from Linear Regression')"
      ]
     },
     "execution_count": 144,
     "metadata": {},
     "output_type": "execute_result"
    },
    {
     "data": {
      "image/png": "[encoded data removed]",
      "text/plain": [
       "<Figure size 640x480 with 1 Axes>"
      ]
     },
     "metadata": {},
     "output_type": "display_data"
    }
   ],
   "source": [
    "sns.lineplot(x=x, y=y_test, label = \"actual_values\", alpha = 0.5);\n",
    "sns.lineplot(x=x, y = lr_predict, label = 'lr_predicted_values', alpha = 0.5);\n",
    "plt.title(\"Comparison of Real VS Predicted values from Linear Regression\")"
   ]
  },
  {
   "cell_type": "code",
   "execution_count": 146,
   "metadata": {},
   "outputs": [
    {
     "data": {
      "image/png": "[encoded data removed]",
      "text/plain": [
       "<Figure size 640x480 with 1 Axes>"
      ]
     },
     "metadata": {},
     "output_type": "display_data"
    }
   ],
   "source": [
    "sns.kdeplot(lr_predict, label = 'Predicted', fill=True, alpha=0.5, bw_adjust=0.5);\n",
    "sns.kdeplot(y_test, label = 'Actual', fill=True, alpha=0.5, bw_adjust=0.5);\n",
    "plt.title(\"KDE of Predictions VS Actual Values\");\n",
    "plt.xlabel(\"Values\");\n",
    "plt.ylabel(\"Density\");\n",
    "plt.legend();\n",
    "plt.show();\n"
   ]
  },
  {
   "cell_type": "code",
   "execution_count": 148,
   "metadata": {},
   "outputs": [
    {
     "data": {
      "text/html": [
       "<div>\n",
       "<style scoped>\n",
       "    .dataframe tbody tr th:only-of-type {\n",
       "        vertical-align: middle;\n",
       "    }\n",
       "\n",
       "    .dataframe tbody tr th {\n",
       "        vertical-align: top;\n",
       "    }\n",
       "\n",
       "    .dataframe thead th {\n",
       "        text-align: right;\n",
       "    }\n",
       "</style>\n",
       "<table border=\"1\" class=\"dataframe\">\n",
       "  <thead>\n",
       "    <tr style=\"text-align: right;\">\n",
       "      <th></th>\n",
       "      <th>Coefficients</th>\n",
       "    </tr>\n",
       "  </thead>\n",
       "  <tbody>\n",
       "    <tr>\n",
       "      <th>odometer</th>\n",
       "      <td>0.70</td>\n",
       "    </tr>\n",
       "  </tbody>\n",
       "</table>\n",
       "</div>"
      ],
      "text/plain": [
       "          Coefficients\n",
       "odometer          0.70"
      ]
     },
     "metadata": {},
     "output_type": "display_data"
    },
    {
     "data": {
      "text/plain": [
       "<Axes: >"
      ]
     },
     "execution_count": 148,
     "metadata": {},
     "output_type": "execute_result"
    },
    {
     "data": {
      "image/png": "[encoded data removed]",
      "text/plain": [
       "<Figure size 640x480 with 1 Axes>"
      ]
     },
     "metadata": {},
     "output_type": "display_data"
    }
   ],
   "source": [
    "coeffs = pd.DataFrame(np.round(lr.coef_,1), X_train.columns, columns = [\"Coefficients\"])\n",
    "display(coeffs)\n",
    "coeffs.plot(kind = \"bar\")"
   ]
  },
  {
   "cell_type": "code",
   "execution_count": 150,
   "metadata": {},
   "outputs": [
    {
     "data": {
      "text/plain": [
       "Index(['region', 'manufacturer', 'model', 'condition', 'cylinders', 'fuel',\n",
       "       'title_status', 'transmission', 'VIN', 'drive', 'size', 'type',\n",
       "       'paint_color', 'state'],\n",
       "      dtype='object')"
      ]
     },
     "execution_count": 150,
     "metadata": {},
     "output_type": "execute_result"
    }
   ],
   "source": [
    "df.select_dtypes(\"object\").columns"
   ]
  },
  {
   "cell_type": "code",
   "execution_count": 152,
   "metadata": {},
   "outputs": [],
   "source": [
    "# This is to get dummies for all columns that is very huge and system might hang"
   ]
  },
  {
   "cell_type": "code",
   "execution_count": 154,
   "metadata": {},
   "outputs": [],
   "source": [
    "#pd.get_dummies(df.select_dtypes(\"object\"), dtype = int, drop_first = True)"
   ]
  },
  {
   "cell_type": "code",
   "execution_count": 156,
   "metadata": {},
   "outputs": [
    {
     "data": {
      "text/plain": [
       "Index(['region', 'manufacturer', 'model', 'condition', 'cylinders', 'fuel',\n",
       "       'title_status', 'transmission', 'VIN', 'drive', 'size', 'type',\n",
       "       'paint_color', 'state'],\n",
       "      dtype='object')"
      ]
     },
     "execution_count": 156,
     "metadata": {},
     "output_type": "execute_result"
    }
   ],
   "source": [
    "df.select_dtypes(\"object\").columns"
   ]
  },
  {
   "cell_type": "code",
   "execution_count": 158,
   "metadata": {},
   "outputs": [
    {
     "name": "stdout",
     "output_type": "stream",
     "text": [
      "<class 'pandas.core.frame.DataFrame'>\n",
      "RangeIndex: 426880 entries, 0 to 426879\n",
      "Data columns (total 19 columns):\n",
      " #   Column        Non-Null Count   Dtype  \n",
      "---  ------        --------------   -----  \n",
      " 0   id            426880 non-null  int64  \n",
      " 1   region        426880 non-null  object \n",
      " 2   price         426880 non-null  int64  \n",
      " 3   year          425675 non-null  float64\n",
      " 4   manufacturer  409234 non-null  object \n",
      " 5   model         421603 non-null  object \n",
      " 6   condition     252776 non-null  object \n",
      " 7   cylinders     249202 non-null  object \n",
      " 8   fuel          423867 non-null  object \n",
      " 9   odometer      422480 non-null  float64\n",
      " 10  title_status  418638 non-null  object \n",
      " 11  transmission  424324 non-null  object \n",
      " 12  VIN           265838 non-null  object \n",
      " 13  drive         296313 non-null  object \n",
      " 14  size          120519 non-null  object \n",
      " 15  type          334022 non-null  object \n",
      " 16  paint_color   296677 non-null  object \n",
      " 17  state         426880 non-null  object \n",
      " 18  priceLog      426880 non-null  float64\n",
      "dtypes: float64(3), int64(2), object(14)\n",
      "memory usage: 61.9+ MB\n"
     ]
    }
   ],
   "source": [
    "df.info()"
   ]
  },
  {
   "cell_type": "code",
   "execution_count": 160,
   "metadata": {},
   "outputs": [
    {
     "data": {
      "text/html": [
       "<div>\n",
       "<style scoped>\n",
       "    .dataframe tbody tr th:only-of-type {\n",
       "        vertical-align: middle;\n",
       "    }\n",
       "\n",
       "    .dataframe tbody tr th {\n",
       "        vertical-align: top;\n",
       "    }\n",
       "\n",
       "    .dataframe thead th {\n",
       "        text-align: right;\n",
       "    }\n",
       "</style>\n",
       "<table border=\"1\" class=\"dataframe\">\n",
       "  <thead>\n",
       "    <tr style=\"text-align: right;\">\n",
       "      <th></th>\n",
       "      <th>region</th>\n",
       "      <th>manufacturer</th>\n",
       "      <th>model</th>\n",
       "      <th>condition</th>\n",
       "      <th>cylinders</th>\n",
       "      <th>fuel</th>\n",
       "      <th>title_status</th>\n",
       "      <th>transmission</th>\n",
       "      <th>VIN</th>\n",
       "      <th>drive</th>\n",
       "      <th>size</th>\n",
       "      <th>type</th>\n",
       "      <th>paint_color</th>\n",
       "      <th>state</th>\n",
       "    </tr>\n",
       "  </thead>\n",
       "  <tbody>\n",
       "    <tr>\n",
       "      <th>nunique</th>\n",
       "      <td>404</td>\n",
       "      <td>42</td>\n",
       "      <td>29649</td>\n",
       "      <td>6</td>\n",
       "      <td>8</td>\n",
       "      <td>5</td>\n",
       "      <td>6</td>\n",
       "      <td>3</td>\n",
       "      <td>118246</td>\n",
       "      <td>3</td>\n",
       "      <td>4</td>\n",
       "      <td>13</td>\n",
       "      <td>12</td>\n",
       "      <td>51</td>\n",
       "    </tr>\n",
       "  </tbody>\n",
       "</table>\n",
       "</div>"
      ],
      "text/plain": [
       "         region  manufacturer  model  condition  cylinders  fuel  \\\n",
       "nunique     404            42  29649          6          8     5   \n",
       "\n",
       "         title_status  transmission     VIN  drive  size  type  paint_color  \\\n",
       "nunique             6             3  118246      3     4    13           12   \n",
       "\n",
       "         state  \n",
       "nunique     51  "
      ]
     },
     "execution_count": 160,
     "metadata": {},
     "output_type": "execute_result"
    }
   ],
   "source": [
    "df.select_dtypes(\"object\").agg([\"nunique\"])"
   ]
  },
  {
   "cell_type": "code",
   "execution_count": 162,
   "metadata": {},
   "outputs": [],
   "source": [
    "dfc = df[['condition', 'title_status', 'odometer']]\n",
    "dfc = pd.get_dummies(dfc.select_dtypes(\"object\"), dtype = int, drop_first = True)"
   ]
  },
  {
   "cell_type": "code",
   "execution_count": 164,
   "metadata": {},
   "outputs": [
    {
     "data": {
      "text/html": [
       "<div>\n",
       "<style scoped>\n",
       "    .dataframe tbody tr th:only-of-type {\n",
       "        vertical-align: middle;\n",
       "    }\n",
       "\n",
       "    .dataframe tbody tr th {\n",
       "        vertical-align: top;\n",
       "    }\n",
       "\n",
       "    .dataframe thead th {\n",
       "        text-align: right;\n",
       "    }\n",
       "</style>\n",
       "<table border=\"1\" class=\"dataframe\">\n",
       "  <thead>\n",
       "    <tr style=\"text-align: right;\">\n",
       "      <th></th>\n",
       "      <th>condition_fair</th>\n",
       "      <th>condition_good</th>\n",
       "      <th>condition_like new</th>\n",
       "      <th>condition_new</th>\n",
       "      <th>condition_salvage</th>\n",
       "      <th>title_status_lien</th>\n",
       "      <th>title_status_missing</th>\n",
       "      <th>title_status_parts only</th>\n",
       "      <th>title_status_rebuilt</th>\n",
       "      <th>title_status_salvage</th>\n",
       "    </tr>\n",
       "  </thead>\n",
       "  <tbody>\n",
       "    <tr>\n",
       "      <th>189047</th>\n",
       "      <td>0</td>\n",
       "      <td>1</td>\n",
       "      <td>0</td>\n",
       "      <td>0</td>\n",
       "      <td>0</td>\n",
       "      <td>0</td>\n",
       "      <td>0</td>\n",
       "      <td>0</td>\n",
       "      <td>0</td>\n",
       "      <td>0</td>\n",
       "    </tr>\n",
       "    <tr>\n",
       "      <th>38448</th>\n",
       "      <td>0</td>\n",
       "      <td>0</td>\n",
       "      <td>0</td>\n",
       "      <td>0</td>\n",
       "      <td>0</td>\n",
       "      <td>0</td>\n",
       "      <td>0</td>\n",
       "      <td>0</td>\n",
       "      <td>0</td>\n",
       "      <td>0</td>\n",
       "    </tr>\n",
       "    <tr>\n",
       "      <th>304884</th>\n",
       "      <td>0</td>\n",
       "      <td>0</td>\n",
       "      <td>0</td>\n",
       "      <td>0</td>\n",
       "      <td>0</td>\n",
       "      <td>0</td>\n",
       "      <td>0</td>\n",
       "      <td>0</td>\n",
       "      <td>0</td>\n",
       "      <td>0</td>\n",
       "    </tr>\n",
       "    <tr>\n",
       "      <th>135376</th>\n",
       "      <td>0</td>\n",
       "      <td>0</td>\n",
       "      <td>0</td>\n",
       "      <td>0</td>\n",
       "      <td>0</td>\n",
       "      <td>0</td>\n",
       "      <td>0</td>\n",
       "      <td>0</td>\n",
       "      <td>0</td>\n",
       "      <td>0</td>\n",
       "    </tr>\n",
       "    <tr>\n",
       "      <th>344103</th>\n",
       "      <td>0</td>\n",
       "      <td>1</td>\n",
       "      <td>0</td>\n",
       "      <td>0</td>\n",
       "      <td>0</td>\n",
       "      <td>0</td>\n",
       "      <td>0</td>\n",
       "      <td>0</td>\n",
       "      <td>0</td>\n",
       "      <td>0</td>\n",
       "    </tr>\n",
       "  </tbody>\n",
       "</table>\n",
       "</div>"
      ],
      "text/plain": [
       "        condition_fair  condition_good  condition_like new  condition_new  \\\n",
       "189047               0               1                   0              0   \n",
       "38448                0               0                   0              0   \n",
       "304884               0               0                   0              0   \n",
       "135376               0               0                   0              0   \n",
       "344103               0               1                   0              0   \n",
       "\n",
       "        condition_salvage  title_status_lien  title_status_missing  \\\n",
       "189047                  0                  0                     0   \n",
       "38448                   0                  0                     0   \n",
       "304884                  0                  0                     0   \n",
       "135376                  0                  0                     0   \n",
       "344103                  0                  0                     0   \n",
       "\n",
       "        title_status_parts only  title_status_rebuilt  title_status_salvage  \n",
       "189047                        0                     0                     0  \n",
       "38448                         0                     0                     0  \n",
       "304884                        0                     0                     0  \n",
       "135376                        0                     0                     0  \n",
       "344103                        0                     0                     0  "
      ]
     },
     "execution_count": 164,
     "metadata": {},
     "output_type": "execute_result"
    }
   ],
   "source": [
    "dfc.sample(5)"
   ]
  },
  {
   "cell_type": "code",
   "execution_count": 166,
   "metadata": {},
   "outputs": [
    {
     "name": "stdout",
     "output_type": "stream",
     "text": [
      "<class 'pandas.core.frame.DataFrame'>\n",
      "RangeIndex: 426880 entries, 0 to 426879\n",
      "Data columns (total 10 columns):\n",
      " #   Column                   Non-Null Count   Dtype\n",
      "---  ------                   --------------   -----\n",
      " 0   condition_fair           426880 non-null  int64\n",
      " 1   condition_good           426880 non-null  int64\n",
      " 2   condition_like new       426880 non-null  int64\n",
      " 3   condition_new            426880 non-null  int64\n",
      " 4   condition_salvage        426880 non-null  int64\n",
      " 5   title_status_lien        426880 non-null  int64\n",
      " 6   title_status_missing     426880 non-null  int64\n",
      " 7   title_status_parts only  426880 non-null  int64\n",
      " 8   title_status_rebuilt     426880 non-null  int64\n",
      " 9   title_status_salvage     426880 non-null  int64\n",
      "dtypes: int64(10)\n",
      "memory usage: 32.6 MB\n"
     ]
    }
   ],
   "source": [
    "dfc.info()"
   ]
  },
  {
   "cell_type": "code",
   "execution_count": 168,
   "metadata": {},
   "outputs": [],
   "source": [
    "from sklearn import set_config\n",
    "set_config(transform_output=\"pandas\")\n",
    "from sklearn.impute import SimpleImputer"
   ]
  },
  {
   "cell_type": "code",
   "execution_count": 170,
   "metadata": {},
   "outputs": [],
   "source": [
    "X = dfc\n",
    "y = df_numeric['price']\n",
    "X_train, X_test, y_train, y_test = train_test_split(X,y,test_size = 0.20,random_state=23)"
   ]
  },
  {
   "cell_type": "code",
   "execution_count": 172,
   "metadata": {},
   "outputs": [
    {
     "name": "stdout",
     "output_type": "stream",
     "text": [
      "(341504, 10)\n",
      "(85376, 10)\n",
      "####################\n",
      "(341504,)\n",
      "(85376,)\n"
     ]
    }
   ],
   "source": [
    "print(X_train.shape)\n",
    "print(X_test.shape)\n",
    "print(\"#\" * 20)\n",
    "print(y_train.shape)\n",
    "print(y_test.shape)"
   ]
  },
  {
   "cell_type": "code",
   "execution_count": 174,
   "metadata": {},
   "outputs": [
    {
     "name": "stdout",
     "output_type": "stream",
     "text": [
      "condition_fair             0\n",
      "condition_good             0\n",
      "condition_like new         0\n",
      "condition_new              0\n",
      "condition_salvage          0\n",
      "title_status_lien          0\n",
      "title_status_missing       0\n",
      "title_status_parts only    0\n",
      "title_status_rebuilt       0\n",
      "title_status_salvage       0\n",
      "dtype: int64\n"
     ]
    }
   ],
   "source": [
    "print(X_train.isna().sum())"
   ]
  },
  {
   "cell_type": "code",
   "execution_count": 176,
   "metadata": {},
   "outputs": [
    {
     "name": "stdout",
     "output_type": "stream",
     "text": [
      "condition_fair             0\n",
      "condition_good             0\n",
      "condition_like new         0\n",
      "condition_new              0\n",
      "condition_salvage          0\n",
      "title_status_lien          0\n",
      "title_status_missing       0\n",
      "title_status_parts only    0\n",
      "title_status_rebuilt       0\n",
      "title_status_salvage       0\n",
      "dtype: int64\n"
     ]
    }
   ],
   "source": [
    "print(X_test.isna().sum())"
   ]
  },
  {
   "cell_type": "code",
   "execution_count": 178,
   "metadata": {},
   "outputs": [],
   "source": [
    "from sklearn import set_config\n",
    "set_config(transform_output=\"pandas\")\n",
    "from sklearn.impute import SimpleImputer"
   ]
  },
  {
   "cell_type": "code",
   "execution_count": 180,
   "metadata": {},
   "outputs": [],
   "source": [
    "si = SimpleImputer(strategy = \"most_frequent\")\n",
    "X_train = si.fit_transform(X_train)\n",
    "X_test = si.transform(X_test)"
   ]
  },
  {
   "cell_type": "code",
   "execution_count": 182,
   "metadata": {},
   "outputs": [
    {
     "name": "stdout",
     "output_type": "stream",
     "text": [
      "condition_fair             0\n",
      "condition_good             0\n",
      "condition_like new         0\n",
      "condition_new              0\n",
      "condition_salvage          0\n",
      "title_status_lien          0\n",
      "title_status_missing       0\n",
      "title_status_parts only    0\n",
      "title_status_rebuilt       0\n",
      "title_status_salvage       0\n",
      "dtype: int64\n",
      "condition_fair             0\n",
      "condition_good             0\n",
      "condition_like new         0\n",
      "condition_new              0\n",
      "condition_salvage          0\n",
      "title_status_lien          0\n",
      "title_status_missing       0\n",
      "title_status_parts only    0\n",
      "title_status_rebuilt       0\n",
      "title_status_salvage       0\n",
      "dtype: int64\n"
     ]
    }
   ],
   "source": [
    "print(X_train.isna().sum())\n",
    "print(X_test.isna().sum())"
   ]
  },
  {
   "cell_type": "code",
   "execution_count": 184,
   "metadata": {},
   "outputs": [
    {
     "data": {
      "text/plain": [
       "75199.0"
      ]
     },
     "execution_count": 184,
     "metadata": {},
     "output_type": "execute_result"
    }
   ],
   "source": [
    "y.mean().round(1)"
   ]
  },
  {
   "cell_type": "code",
   "execution_count": 186,
   "metadata": {},
   "outputs": [],
   "source": [
    "\n",
    "def ErMtx(y_train_true, y_train_pred, y_test_true, y_test_pred):\n",
    "    errors = {}\n",
    "    errors[\"Train_MAE\"] = mean_absolute_error(y_train_true, y_train_pred)\n",
    "    errors[\"Train_MSE\"] = mean_squared_error(y_train_true, y_train_pred)\n",
    "    errors[\"Train_RMAE\"] = np.sqrt(errors[\"Train_MSE\"])\n",
    "    errors[\"Train_R2_Score\"] = r2_score(y_train_true, y_train_pred)\n",
    "\n",
    "    errors[\"Test_MAE\"] = mean_absolute_error(y_test_true, y_test_pred)\n",
    "    errors[\"Test_MSE\"] = mean_squared_error(y_test_true, y_test_pred)\n",
    "    errors[\"Test_RMAE\"] = np.sqrt(errors[\"Test_MSE\"])\n",
    "    errors[\"Test_R2_Score\"] = r2_score(y_test_true, y_test_pred)\n",
    "\n",
    "    return errors\n",
    "model_eval = []\n"
   ]
  },
  {
   "cell_type": "code",
   "execution_count": 188,
   "metadata": {},
   "outputs": [
    {
     "name": "stdout",
     "output_type": "stream",
     "text": [
      "(341504, 10)\n",
      "(85376, 10)\n",
      "(341504,)\n",
      "(85376,)\n"
     ]
    }
   ],
   "source": [
    "X_train, X_test, y_train, y_test = train_test_split(X,y,test_size = 0.20,random_state=23)\n",
    "print(X_train.shape)\n",
    "print(X_test.shape)\n",
    "print(y_train.shape)\n",
    "print(y_test.shape)"
   ]
  },
  {
   "cell_type": "code",
   "execution_count": 190,
   "metadata": {},
   "outputs": [],
   "source": [
    "from sklearn.preprocessing import StandardScaler\n",
    "scale = StandardScaler()\n",
    "x_train_sc = scale.fit_transform(X_train)\n",
    "x_test_sc = scale.fit_transform(X_test)"
   ]
  },
  {
   "cell_type": "markdown",
   "metadata": {},
   "source": [
    "### Deployment\n",
    "\n",
    "Now that we've settled on our models and findings, it is time to deliver the information to the client.  You should organize your work as a basic report that details your primary findings.  Keep in mind that your audience is a group of used car dealers interested in fine-tuning their inventory."
   ]
  },
  {
   "cell_type": "code",
   "execution_count": 193,
   "metadata": {},
   "outputs": [
    {
     "data": {
      "text/plain": [
       "{'Train_MAE': 133215.12861187203,\n",
       " 'Train_MSE': 177339903989370.84,\n",
       " 'Train_RMAE': 13316902.942853149,\n",
       " 'Train_R2_Score': 4.5370756093898734e-05,\n",
       " 'Test_MAE': 99645.13295525611,\n",
       " 'Test_MSE': 32638025417302.02,\n",
       " 'Test_RMAE': 5712969.9296689825,\n",
       " 'Test_R2_Score': 0.0002302681379972027}"
      ]
     },
     "execution_count": 193,
     "metadata": {},
     "output_type": "execute_result"
    }
   ],
   "source": [
    "lr = LinearRegression()\n",
    "lr.fit(x_train_sc, y_train)\n",
    "y_train_pred = lr.predict(x_train_sc)\n",
    "y_test_pred = lr.predict(x_test_sc)\n",
    "error_lr = ErMtx(y_train, y_train_pred, y_test, y_test_pred)\n",
    "error_lr"
   ]
  },
  {
   "cell_type": "code",
   "execution_count": 195,
   "metadata": {},
   "outputs": [
    {
     "data": {
      "text/html": [
       "<div>\n",
       "<style scoped>\n",
       "    .dataframe tbody tr th:only-of-type {\n",
       "        vertical-align: middle;\n",
       "    }\n",
       "\n",
       "    .dataframe tbody tr th {\n",
       "        vertical-align: top;\n",
       "    }\n",
       "\n",
       "    .dataframe thead th {\n",
       "        text-align: right;\n",
       "    }\n",
       "</style>\n",
       "<table border=\"1\" class=\"dataframe\">\n",
       "  <thead>\n",
       "    <tr style=\"text-align: right;\">\n",
       "      <th></th>\n",
       "      <th>Train_MAE</th>\n",
       "      <th>Train_MSE</th>\n",
       "      <th>Train_RMAE</th>\n",
       "      <th>Train_R2_Score</th>\n",
       "      <th>Test_MAE</th>\n",
       "      <th>Test_MSE</th>\n",
       "      <th>Test_RMAE</th>\n",
       "      <th>Test_R2_Score</th>\n",
       "      <th>Model Name</th>\n",
       "    </tr>\n",
       "  </thead>\n",
       "  <tbody>\n",
       "    <tr>\n",
       "      <th>0</th>\n",
       "      <td>133215.13</td>\n",
       "      <td>177339903989370.84</td>\n",
       "      <td>13316902.94</td>\n",
       "      <td>0.00</td>\n",
       "      <td>99645.13</td>\n",
       "      <td>32638025417302.02</td>\n",
       "      <td>5712969.93</td>\n",
       "      <td>0.00</td>\n",
       "      <td>Linear Regression</td>\n",
       "    </tr>\n",
       "  </tbody>\n",
       "</table>\n",
       "</div>"
      ],
      "text/plain": [
       "   Train_MAE          Train_MSE  Train_RMAE  Train_R2_Score  Test_MAE  \\\n",
       "0  133215.13 177339903989370.84 13316902.94            0.00  99645.13   \n",
       "\n",
       "           Test_MSE  Test_RMAE  Test_R2_Score         Model Name  \n",
       "0 32638025417302.02 5712969.93           0.00  Linear Regression  "
      ]
     },
     "execution_count": 195,
     "metadata": {},
     "output_type": "execute_result"
    }
   ],
   "source": [
    "error_lr['Model Name']='Linear Regression'\n",
    "error_lr\n",
    "model_evaluation = (pd.DataFrame([error_lr]))\n",
    "model_evaluation"
   ]
  },
  {
   "cell_type": "code",
   "execution_count": 197,
   "metadata": {},
   "outputs": [],
   "source": [
    "pipe = Pipeline([\n",
    "    ('scale', StandardScaler()),\n",
    "    ('poly', PolynomialFeatures()),\n",
    "    ('lasso', Lasso())\n",
    "])\n",
    "\n",
    "param_grid = {\n",
    "    'lasso__alpha': [0.01, 0.1, 1, 10, 100],\n",
    "    'poly__degree': [1,2,3,4]\n",
    "}"
   ]
  },
  {
   "cell_type": "code",
   "execution_count": 199,
   "metadata": {},
   "outputs": [
    {
     "name": "stdout",
     "output_type": "stream",
     "text": [
      "Pipeline(steps=[('scale', StandardScaler()),\n",
      "                ('poly', PolynomialFeatures(degree=1)),\n",
      "                ('lasso', Lasso(alpha=100))])\n"
     ]
    }
   ],
   "source": [
    "grid_search = GridSearchCV(pipe, param_grid, cv=5, scoring='neg_mean_squared_error')\n",
    "grid_search.fit(X_train, y_train)\n",
    "best_model_lasso = grid_search.best_estimator_\n",
    "print(best_model_lasso)"
   ]
  },
  {
   "cell_type": "code",
   "execution_count": 211,
   "metadata": {},
   "outputs": [
    {
     "data": {
      "text/plain": [
       "{'Train_MAE': 133129.32837528977,\n",
       " 'Train_MSE': 177339904088521.44,\n",
       " 'Train_RMAE': 13316902.946575884,\n",
       " 'Train_R2_Score': 4.537019702000045e-05,\n",
       " 'Test_MAE': 99559.86242982338,\n",
       " 'Test_MSE': 32638015468750.434,\n",
       " 'Test_RMAE': 5712969.058970164,\n",
       " 'Test_R2_Score': 0.0002305728825588993,\n",
       " 'Model Name': 'Lasso'}"
      ]
     },
     "execution_count": 211,
     "metadata": {},
     "output_type": "execute_result"
    }
   ],
   "source": [
    "lasso = Lasso(alpha=100)\n",
    "lasso.fit(x_train_sc, y_train)\n",
    "y_train_pred = lasso.predict(x_train_sc)\n",
    "y_test_pred = lasso.predict(x_test_sc)\n",
    "error_lasso = ErMtx(y_train, y_train_pred, y_test, y_test_pred)\n",
    "error_lasso['Model Name']='Lasso'\n",
    "error_lasso\n"
   ]
  },
  {
   "cell_type": "code",
   "execution_count": 213,
   "metadata": {},
   "outputs": [
    {
     "data": {
      "text/html": [
       "<div>\n",
       "<style scoped>\n",
       "    .dataframe tbody tr th:only-of-type {\n",
       "        vertical-align: middle;\n",
       "    }\n",
       "\n",
       "    .dataframe tbody tr th {\n",
       "        vertical-align: top;\n",
       "    }\n",
       "\n",
       "    .dataframe thead th {\n",
       "        text-align: right;\n",
       "    }\n",
       "</style>\n",
       "<table border=\"1\" class=\"dataframe\">\n",
       "  <thead>\n",
       "    <tr style=\"text-align: right;\">\n",
       "      <th></th>\n",
       "      <th>Train_MAE</th>\n",
       "      <th>Train_MSE</th>\n",
       "      <th>Train_RMAE</th>\n",
       "      <th>Train_R2_Score</th>\n",
       "      <th>Test_MAE</th>\n",
       "      <th>Test_MSE</th>\n",
       "      <th>Test_RMAE</th>\n",
       "      <th>Test_R2_Score</th>\n",
       "      <th>Model Name</th>\n",
       "    </tr>\n",
       "  </thead>\n",
       "  <tbody>\n",
       "    <tr>\n",
       "      <th>0</th>\n",
       "      <td>133215.13</td>\n",
       "      <td>177339903989370.84</td>\n",
       "      <td>13316902.94</td>\n",
       "      <td>0.00</td>\n",
       "      <td>99645.13</td>\n",
       "      <td>32638025417302.02</td>\n",
       "      <td>5712969.93</td>\n",
       "      <td>0.00</td>\n",
       "      <td>Linear Regression</td>\n",
       "    </tr>\n",
       "    <tr>\n",
       "      <th>1</th>\n",
       "      <td>133129.33</td>\n",
       "      <td>177339904088521.44</td>\n",
       "      <td>13316902.95</td>\n",
       "      <td>0.00</td>\n",
       "      <td>99559.86</td>\n",
       "      <td>32638015468750.43</td>\n",
       "      <td>5712969.06</td>\n",
       "      <td>0.00</td>\n",
       "      <td>Lasso</td>\n",
       "    </tr>\n",
       "    <tr>\n",
       "      <th>2</th>\n",
       "      <td>133129.33</td>\n",
       "      <td>177339904088521.44</td>\n",
       "      <td>13316902.95</td>\n",
       "      <td>0.00</td>\n",
       "      <td>99559.86</td>\n",
       "      <td>32638015468750.43</td>\n",
       "      <td>5712969.06</td>\n",
       "      <td>0.00</td>\n",
       "      <td>Lasso</td>\n",
       "    </tr>\n",
       "  </tbody>\n",
       "</table>\n",
       "</div>"
      ],
      "text/plain": [
       "   Train_MAE          Train_MSE  Train_RMAE  Train_R2_Score  Test_MAE  \\\n",
       "0  133215.13 177339903989370.84 13316902.94            0.00  99645.13   \n",
       "1  133129.33 177339904088521.44 13316902.95            0.00  99559.86   \n",
       "2  133129.33 177339904088521.44 13316902.95            0.00  99559.86   \n",
       "\n",
       "           Test_MSE  Test_RMAE  Test_R2_Score         Model Name  \n",
       "0 32638025417302.02 5712969.93           0.00  Linear Regression  \n",
       "1 32638015468750.43 5712969.06           0.00              Lasso  \n",
       "2 32638015468750.43 5712969.06           0.00              Lasso  "
      ]
     },
     "execution_count": 213,
     "metadata": {},
     "output_type": "execute_result"
    }
   ],
   "source": [
    "model_evaluation = pd.concat([model_evaluation, (pd.DataFrame([error_lasso]))],ignore_index=True)\n",
    "model_evaluation"
   ]
  },
  {
   "cell_type": "code",
   "execution_count": 215,
   "metadata": {},
   "outputs": [],
   "source": [
    "pipe = Pipeline([\n",
    "    ('scale', StandardScaler()),\n",
    "    ('poly', PolynomialFeatures()),\n",
    "    ('ridge', Ridge())\n",
    "])\n",
    "\n",
    "param_grid = {\n",
    "    'ridge__alpha': [0.01, 0.1, 1, 10, 100],\n",
    "    'poly__degree': [1,2,3,4]\n",
    "}"
   ]
  },
  {
   "cell_type": "code",
   "execution_count": 217,
   "metadata": {},
   "outputs": [
    {
     "name": "stdout",
     "output_type": "stream",
     "text": [
      "Pipeline(steps=[('scale', StandardScaler()),\n",
      "                ('poly', PolynomialFeatures(degree=1)),\n",
      "                ('ridge', Ridge(alpha=100))])\n"
     ]
    }
   ],
   "source": [
    "grid_search = GridSearchCV(pipe, param_grid, cv=5, scoring='neg_mean_squared_error')\n",
    "grid_search.fit(X_train, y_train)\n",
    "best_model_ridge = grid_search.best_estimator_\n",
    "print(best_model_ridge)"
   ]
  },
  {
   "cell_type": "code",
   "execution_count": 221,
   "metadata": {},
   "outputs": [
    {
     "data": {
      "text/plain": [
       "{'Train_MAE': 133187.61236065795,\n",
       " 'Train_MSE': 177339904073724.75,\n",
       " 'Train_RMAE': 13316902.946020322,\n",
       " 'Train_R2_Score': 4.537028045326075e-05,\n",
       " 'Test_MAE': 99912.45426925503,\n",
       " 'Test_MSE': 32638007339477.164,\n",
       " 'Test_RMAE': 5712968.347494774,\n",
       " 'Test_R2_Score': 0.00023082189889045424,\n",
       " 'Model Name': 'Ridge'}"
      ]
     },
     "execution_count": 221,
     "metadata": {},
     "output_type": "execute_result"
    }
   ],
   "source": [
    "best_model_ridge = Ridge(alpha=10)\n",
    "best_model_ridge.fit(X_train, y_train)\n",
    "y_train_pred = best_model_ridge.predict(X_train)\n",
    "y_test_pred = best_model_ridge.predict(X_test)\n",
    "error_ridge = ErMtx(y_train, y_train_pred, y_test, y_test_pred)\n",
    "error_ridge['Model Name']='Ridge'\n",
    "error_ridge"
   ]
  },
  {
   "cell_type": "code",
   "execution_count": 223,
   "metadata": {},
   "outputs": [
    {
     "data": {
      "text/html": [
       "<div>\n",
       "<style scoped>\n",
       "    .dataframe tbody tr th:only-of-type {\n",
       "        vertical-align: middle;\n",
       "    }\n",
       "\n",
       "    .dataframe tbody tr th {\n",
       "        vertical-align: top;\n",
       "    }\n",
       "\n",
       "    .dataframe thead th {\n",
       "        text-align: right;\n",
       "    }\n",
       "</style>\n",
       "<table border=\"1\" class=\"dataframe\">\n",
       "  <thead>\n",
       "    <tr style=\"text-align: right;\">\n",
       "      <th></th>\n",
       "      <th>Train_MAE</th>\n",
       "      <th>Train_MSE</th>\n",
       "      <th>Train_RMAE</th>\n",
       "      <th>Train_R2_Score</th>\n",
       "      <th>Test_MAE</th>\n",
       "      <th>Test_MSE</th>\n",
       "      <th>Test_RMAE</th>\n",
       "      <th>Test_R2_Score</th>\n",
       "      <th>Model Name</th>\n",
       "    </tr>\n",
       "  </thead>\n",
       "  <tbody>\n",
       "    <tr>\n",
       "      <th>0</th>\n",
       "      <td>133215.13</td>\n",
       "      <td>177339903989370.84</td>\n",
       "      <td>13316902.94</td>\n",
       "      <td>0.00</td>\n",
       "      <td>99645.13</td>\n",
       "      <td>32638025417302.02</td>\n",
       "      <td>5712969.93</td>\n",
       "      <td>0.00</td>\n",
       "      <td>Linear Regression</td>\n",
       "    </tr>\n",
       "    <tr>\n",
       "      <th>1</th>\n",
       "      <td>133129.33</td>\n",
       "      <td>177339904088521.44</td>\n",
       "      <td>13316902.95</td>\n",
       "      <td>0.00</td>\n",
       "      <td>99559.86</td>\n",
       "      <td>32638015468750.43</td>\n",
       "      <td>5712969.06</td>\n",
       "      <td>0.00</td>\n",
       "      <td>Lasso</td>\n",
       "    </tr>\n",
       "    <tr>\n",
       "      <th>2</th>\n",
       "      <td>133129.33</td>\n",
       "      <td>177339904088521.44</td>\n",
       "      <td>13316902.95</td>\n",
       "      <td>0.00</td>\n",
       "      <td>99559.86</td>\n",
       "      <td>32638015468750.43</td>\n",
       "      <td>5712969.06</td>\n",
       "      <td>0.00</td>\n",
       "      <td>Lasso</td>\n",
       "    </tr>\n",
       "    <tr>\n",
       "      <th>3</th>\n",
       "      <td>133187.61</td>\n",
       "      <td>177339904073724.75</td>\n",
       "      <td>13316902.95</td>\n",
       "      <td>0.00</td>\n",
       "      <td>99912.45</td>\n",
       "      <td>32638007339477.16</td>\n",
       "      <td>5712968.35</td>\n",
       "      <td>0.00</td>\n",
       "      <td>Ridge</td>\n",
       "    </tr>\n",
       "  </tbody>\n",
       "</table>\n",
       "</div>"
      ],
      "text/plain": [
       "   Train_MAE          Train_MSE  Train_RMAE  Train_R2_Score  Test_MAE  \\\n",
       "0  133215.13 177339903989370.84 13316902.94            0.00  99645.13   \n",
       "1  133129.33 177339904088521.44 13316902.95            0.00  99559.86   \n",
       "2  133129.33 177339904088521.44 13316902.95            0.00  99559.86   \n",
       "3  133187.61 177339904073724.75 13316902.95            0.00  99912.45   \n",
       "\n",
       "           Test_MSE  Test_RMAE  Test_R2_Score         Model Name  \n",
       "0 32638025417302.02 5712969.93           0.00  Linear Regression  \n",
       "1 32638015468750.43 5712969.06           0.00              Lasso  \n",
       "2 32638015468750.43 5712969.06           0.00              Lasso  \n",
       "3 32638007339477.16 5712968.35           0.00              Ridge  "
      ]
     },
     "execution_count": 223,
     "metadata": {},
     "output_type": "execute_result"
    }
   ],
   "source": [
    "model_evaluation = pd.concat([model_evaluation, (pd.DataFrame([error_ridge]))],ignore_index=True)\n",
    "model_evaluation"
   ]
  },
  {
   "cell_type": "code",
   "execution_count": null,
   "metadata": {},
   "outputs": [],
   "source": []
  },
  {
   "cell_type": "code",
   "execution_count": null,
   "metadata": {},
   "outputs": [],
   "source": []
  }
 ],
 "metadata": {
  "kernelspec": {
   "display_name": "Python 3 (ipykernel)",
   "language": "python",
   "name": "python3"
  },
  "language_info": {
   "codemirror_mode": {
    "name": "ipython",
    "version": 3
   },
   "file_extension": ".py",
   "mimetype": "text/x-python",
   "name": "python",
   "nbconvert_exporter": "python",
   "pygments_lexer": "ipython3",
   "version": "3.12.4"
  },
  "widgets": {
   "application/vnd.jupyter.widget-state+json": {
    "state": {},
    "version_major": 2,
    "version_minor": 0
   }
  }
 },
 "nbformat": 4,
 "nbformat_minor": 4
}
